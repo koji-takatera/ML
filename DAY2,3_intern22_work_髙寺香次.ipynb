{
 "cells": [
  {
   "cell_type": "code",
   "execution_count": 271,
   "metadata": {},
   "outputs": [],
   "source": [
    "#ホールドアウト法\n",
    "%matplotlib inline\n",
    "import pandas as pd\n",
    "import numpy as np\n",
    "import matplotlib.pyplot as plt\n",
    "from sklearn.model_selection import train_test_split\n",
    "from sklearn.model_selection import KFold\n",
    "from sklearn.linear_model import SGDClassifier\n",
    "from sklearn.metrics import precision_recall_fscore_support, accuracy_score, confusion_matrix"
   ]
  },
  {
   "cell_type": "code",
   "execution_count": 272,
   "metadata": {},
   "outputs": [],
   "source": [
    "df_ks = pd.read_csv(\"ks-projects-201801.csv\")"
   ]
  },
  {
   "cell_type": "code",
   "execution_count": 273,
   "metadata": {
    "scrolled": true
   },
   "outputs": [
    {
     "data": {
      "text/html": [
       "<div>\n",
       "<style scoped>\n",
       "    .dataframe tbody tr th:only-of-type {\n",
       "        vertical-align: middle;\n",
       "    }\n",
       "\n",
       "    .dataframe tbody tr th {\n",
       "        vertical-align: top;\n",
       "    }\n",
       "\n",
       "    .dataframe thead th {\n",
       "        text-align: right;\n",
       "    }\n",
       "</style>\n",
       "<table border=\"1\" class=\"dataframe\">\n",
       "  <thead>\n",
       "    <tr style=\"text-align: right;\">\n",
       "      <th></th>\n",
       "      <th>ID</th>\n",
       "      <th>name</th>\n",
       "      <th>category</th>\n",
       "      <th>main_category</th>\n",
       "      <th>currency</th>\n",
       "      <th>deadline</th>\n",
       "      <th>goal</th>\n",
       "      <th>launched</th>\n",
       "      <th>pledged</th>\n",
       "      <th>state</th>\n",
       "      <th>backers</th>\n",
       "      <th>country</th>\n",
       "      <th>usd pledged</th>\n",
       "      <th>usd_pledged_real</th>\n",
       "      <th>usd_goal_real</th>\n",
       "    </tr>\n",
       "  </thead>\n",
       "  <tbody>\n",
       "    <tr>\n",
       "      <th>0</th>\n",
       "      <td>1000002330</td>\n",
       "      <td>The Songs of Adelaide &amp; Abullah</td>\n",
       "      <td>Poetry</td>\n",
       "      <td>Publishing</td>\n",
       "      <td>GBP</td>\n",
       "      <td>2015-10-09</td>\n",
       "      <td>1000.0</td>\n",
       "      <td>2015-08-11 12:12:28</td>\n",
       "      <td>0.0</td>\n",
       "      <td>failed</td>\n",
       "      <td>0</td>\n",
       "      <td>GB</td>\n",
       "      <td>0.0</td>\n",
       "      <td>0.0</td>\n",
       "      <td>1533.95</td>\n",
       "    </tr>\n",
       "    <tr>\n",
       "      <th>1</th>\n",
       "      <td>1000003930</td>\n",
       "      <td>Greeting From Earth: ZGAC Arts Capsule For ET</td>\n",
       "      <td>Narrative Film</td>\n",
       "      <td>Film &amp; Video</td>\n",
       "      <td>USD</td>\n",
       "      <td>2017-11-01</td>\n",
       "      <td>30000.0</td>\n",
       "      <td>2017-09-02 04:43:57</td>\n",
       "      <td>2421.0</td>\n",
       "      <td>failed</td>\n",
       "      <td>15</td>\n",
       "      <td>US</td>\n",
       "      <td>100.0</td>\n",
       "      <td>2421.0</td>\n",
       "      <td>30000.00</td>\n",
       "    </tr>\n",
       "    <tr>\n",
       "      <th>2</th>\n",
       "      <td>1000004038</td>\n",
       "      <td>Where is Hank?</td>\n",
       "      <td>Narrative Film</td>\n",
       "      <td>Film &amp; Video</td>\n",
       "      <td>USD</td>\n",
       "      <td>2013-02-26</td>\n",
       "      <td>45000.0</td>\n",
       "      <td>2013-01-12 00:20:50</td>\n",
       "      <td>220.0</td>\n",
       "      <td>failed</td>\n",
       "      <td>3</td>\n",
       "      <td>US</td>\n",
       "      <td>220.0</td>\n",
       "      <td>220.0</td>\n",
       "      <td>45000.00</td>\n",
       "    </tr>\n",
       "    <tr>\n",
       "      <th>3</th>\n",
       "      <td>1000007540</td>\n",
       "      <td>ToshiCapital Rekordz Needs Help to Complete Album</td>\n",
       "      <td>Music</td>\n",
       "      <td>Music</td>\n",
       "      <td>USD</td>\n",
       "      <td>2012-04-16</td>\n",
       "      <td>5000.0</td>\n",
       "      <td>2012-03-17 03:24:11</td>\n",
       "      <td>1.0</td>\n",
       "      <td>failed</td>\n",
       "      <td>1</td>\n",
       "      <td>US</td>\n",
       "      <td>1.0</td>\n",
       "      <td>1.0</td>\n",
       "      <td>5000.00</td>\n",
       "    </tr>\n",
       "    <tr>\n",
       "      <th>4</th>\n",
       "      <td>1000011046</td>\n",
       "      <td>Community Film Project: The Art of Neighborhoo...</td>\n",
       "      <td>Film &amp; Video</td>\n",
       "      <td>Film &amp; Video</td>\n",
       "      <td>USD</td>\n",
       "      <td>2015-08-29</td>\n",
       "      <td>19500.0</td>\n",
       "      <td>2015-07-04 08:35:03</td>\n",
       "      <td>1283.0</td>\n",
       "      <td>canceled</td>\n",
       "      <td>14</td>\n",
       "      <td>US</td>\n",
       "      <td>1283.0</td>\n",
       "      <td>1283.0</td>\n",
       "      <td>19500.00</td>\n",
       "    </tr>\n",
       "    <tr>\n",
       "      <th>...</th>\n",
       "      <td>...</td>\n",
       "      <td>...</td>\n",
       "      <td>...</td>\n",
       "      <td>...</td>\n",
       "      <td>...</td>\n",
       "      <td>...</td>\n",
       "      <td>...</td>\n",
       "      <td>...</td>\n",
       "      <td>...</td>\n",
       "      <td>...</td>\n",
       "      <td>...</td>\n",
       "      <td>...</td>\n",
       "      <td>...</td>\n",
       "      <td>...</td>\n",
       "      <td>...</td>\n",
       "    </tr>\n",
       "    <tr>\n",
       "      <th>378656</th>\n",
       "      <td>999976400</td>\n",
       "      <td>ChknTruk Nationwide Charity Drive 2014 (Canceled)</td>\n",
       "      <td>Documentary</td>\n",
       "      <td>Film &amp; Video</td>\n",
       "      <td>USD</td>\n",
       "      <td>2014-10-17</td>\n",
       "      <td>50000.0</td>\n",
       "      <td>2014-09-17 02:35:30</td>\n",
       "      <td>25.0</td>\n",
       "      <td>canceled</td>\n",
       "      <td>1</td>\n",
       "      <td>US</td>\n",
       "      <td>25.0</td>\n",
       "      <td>25.0</td>\n",
       "      <td>50000.00</td>\n",
       "    </tr>\n",
       "    <tr>\n",
       "      <th>378657</th>\n",
       "      <td>999977640</td>\n",
       "      <td>The Tribe</td>\n",
       "      <td>Narrative Film</td>\n",
       "      <td>Film &amp; Video</td>\n",
       "      <td>USD</td>\n",
       "      <td>2011-07-19</td>\n",
       "      <td>1500.0</td>\n",
       "      <td>2011-06-22 03:35:14</td>\n",
       "      <td>155.0</td>\n",
       "      <td>failed</td>\n",
       "      <td>5</td>\n",
       "      <td>US</td>\n",
       "      <td>155.0</td>\n",
       "      <td>155.0</td>\n",
       "      <td>1500.00</td>\n",
       "    </tr>\n",
       "    <tr>\n",
       "      <th>378658</th>\n",
       "      <td>999986353</td>\n",
       "      <td>Walls of Remedy- New lesbian Romantic Comedy f...</td>\n",
       "      <td>Narrative Film</td>\n",
       "      <td>Film &amp; Video</td>\n",
       "      <td>USD</td>\n",
       "      <td>2010-08-16</td>\n",
       "      <td>15000.0</td>\n",
       "      <td>2010-07-01 19:40:30</td>\n",
       "      <td>20.0</td>\n",
       "      <td>failed</td>\n",
       "      <td>1</td>\n",
       "      <td>US</td>\n",
       "      <td>20.0</td>\n",
       "      <td>20.0</td>\n",
       "      <td>15000.00</td>\n",
       "    </tr>\n",
       "    <tr>\n",
       "      <th>378659</th>\n",
       "      <td>999987933</td>\n",
       "      <td>BioDefense Education Kit</td>\n",
       "      <td>Technology</td>\n",
       "      <td>Technology</td>\n",
       "      <td>USD</td>\n",
       "      <td>2016-02-13</td>\n",
       "      <td>15000.0</td>\n",
       "      <td>2016-01-13 18:13:53</td>\n",
       "      <td>200.0</td>\n",
       "      <td>failed</td>\n",
       "      <td>6</td>\n",
       "      <td>US</td>\n",
       "      <td>200.0</td>\n",
       "      <td>200.0</td>\n",
       "      <td>15000.00</td>\n",
       "    </tr>\n",
       "    <tr>\n",
       "      <th>378660</th>\n",
       "      <td>999988282</td>\n",
       "      <td>Nou Renmen Ayiti!  We Love Haiti!</td>\n",
       "      <td>Performance Art</td>\n",
       "      <td>Art</td>\n",
       "      <td>USD</td>\n",
       "      <td>2011-08-16</td>\n",
       "      <td>2000.0</td>\n",
       "      <td>2011-07-19 09:07:47</td>\n",
       "      <td>524.0</td>\n",
       "      <td>failed</td>\n",
       "      <td>17</td>\n",
       "      <td>US</td>\n",
       "      <td>524.0</td>\n",
       "      <td>524.0</td>\n",
       "      <td>2000.00</td>\n",
       "    </tr>\n",
       "  </tbody>\n",
       "</table>\n",
       "<p>378661 rows × 15 columns</p>\n",
       "</div>"
      ],
      "text/plain": [
       "                ID                                               name  \\\n",
       "0       1000002330                    The Songs of Adelaide & Abullah   \n",
       "1       1000003930      Greeting From Earth: ZGAC Arts Capsule For ET   \n",
       "2       1000004038                                     Where is Hank?   \n",
       "3       1000007540  ToshiCapital Rekordz Needs Help to Complete Album   \n",
       "4       1000011046  Community Film Project: The Art of Neighborhoo...   \n",
       "...            ...                                                ...   \n",
       "378656   999976400  ChknTruk Nationwide Charity Drive 2014 (Canceled)   \n",
       "378657   999977640                                          The Tribe   \n",
       "378658   999986353  Walls of Remedy- New lesbian Romantic Comedy f...   \n",
       "378659   999987933                           BioDefense Education Kit   \n",
       "378660   999988282                  Nou Renmen Ayiti!  We Love Haiti!   \n",
       "\n",
       "               category main_category currency    deadline     goal  \\\n",
       "0                Poetry    Publishing      GBP  2015-10-09   1000.0   \n",
       "1        Narrative Film  Film & Video      USD  2017-11-01  30000.0   \n",
       "2        Narrative Film  Film & Video      USD  2013-02-26  45000.0   \n",
       "3                 Music         Music      USD  2012-04-16   5000.0   \n",
       "4          Film & Video  Film & Video      USD  2015-08-29  19500.0   \n",
       "...                 ...           ...      ...         ...      ...   \n",
       "378656      Documentary  Film & Video      USD  2014-10-17  50000.0   \n",
       "378657   Narrative Film  Film & Video      USD  2011-07-19   1500.0   \n",
       "378658   Narrative Film  Film & Video      USD  2010-08-16  15000.0   \n",
       "378659       Technology    Technology      USD  2016-02-13  15000.0   \n",
       "378660  Performance Art           Art      USD  2011-08-16   2000.0   \n",
       "\n",
       "                   launched  pledged     state  backers country  usd pledged  \\\n",
       "0       2015-08-11 12:12:28      0.0    failed        0      GB          0.0   \n",
       "1       2017-09-02 04:43:57   2421.0    failed       15      US        100.0   \n",
       "2       2013-01-12 00:20:50    220.0    failed        3      US        220.0   \n",
       "3       2012-03-17 03:24:11      1.0    failed        1      US          1.0   \n",
       "4       2015-07-04 08:35:03   1283.0  canceled       14      US       1283.0   \n",
       "...                     ...      ...       ...      ...     ...          ...   \n",
       "378656  2014-09-17 02:35:30     25.0  canceled        1      US         25.0   \n",
       "378657  2011-06-22 03:35:14    155.0    failed        5      US        155.0   \n",
       "378658  2010-07-01 19:40:30     20.0    failed        1      US         20.0   \n",
       "378659  2016-01-13 18:13:53    200.0    failed        6      US        200.0   \n",
       "378660  2011-07-19 09:07:47    524.0    failed       17      US        524.0   \n",
       "\n",
       "        usd_pledged_real  usd_goal_real  \n",
       "0                    0.0        1533.95  \n",
       "1                 2421.0       30000.00  \n",
       "2                  220.0       45000.00  \n",
       "3                    1.0        5000.00  \n",
       "4                 1283.0       19500.00  \n",
       "...                  ...            ...  \n",
       "378656              25.0       50000.00  \n",
       "378657             155.0        1500.00  \n",
       "378658              20.0       15000.00  \n",
       "378659             200.0       15000.00  \n",
       "378660             524.0        2000.00  \n",
       "\n",
       "[378661 rows x 15 columns]"
      ]
     },
     "metadata": {},
     "output_type": "display_data"
    }
   ],
   "source": [
    "display(df_ks)"
   ]
  },
  {
   "cell_type": "code",
   "execution_count": 274,
   "metadata": {},
   "outputs": [
    {
     "data": {
      "text/plain": [
       "ID                     0\n",
       "name                   4\n",
       "category               0\n",
       "main_category          0\n",
       "currency               0\n",
       "deadline               0\n",
       "goal                   0\n",
       "launched               0\n",
       "pledged                0\n",
       "state                  0\n",
       "backers                0\n",
       "country                0\n",
       "usd pledged         3797\n",
       "usd_pledged_real       0\n",
       "usd_goal_real          0\n",
       "dtype: int64"
      ]
     },
     "execution_count": 274,
     "metadata": {},
     "output_type": "execute_result"
    }
   ],
   "source": [
    "#欠損値の確認\n",
    "df_ks.isnull().sum()"
   ]
  },
  {
   "cell_type": "code",
   "execution_count": 275,
   "metadata": {},
   "outputs": [],
   "source": [
    "#stateのsuccessfulを1, failedを0とする\n",
    "df_ks.loc[df_ks[\"state\"] == \"successful\", \"state\"] = 1\n",
    "df_ks.loc[df_ks[\"state\"] == \"failed\", \"state\"] = 0\n",
    "#stateの1、0のみを抽出する\n",
    "df_ks = df_ks[(df_ks[\"state\"] == 1) | (df_ks[\"state\"] == 0)]"
   ]
  },
  {
   "cell_type": "code",
   "execution_count": 276,
   "metadata": {
    "scrolled": true
   },
   "outputs": [
    {
     "data": {
      "text/html": [
       "<div>\n",
       "<style scoped>\n",
       "    .dataframe tbody tr th:only-of-type {\n",
       "        vertical-align: middle;\n",
       "    }\n",
       "\n",
       "    .dataframe tbody tr th {\n",
       "        vertical-align: top;\n",
       "    }\n",
       "\n",
       "    .dataframe thead th {\n",
       "        text-align: right;\n",
       "    }\n",
       "</style>\n",
       "<table border=\"1\" class=\"dataframe\">\n",
       "  <thead>\n",
       "    <tr style=\"text-align: right;\">\n",
       "      <th></th>\n",
       "      <th>ID</th>\n",
       "      <th>name</th>\n",
       "      <th>category</th>\n",
       "      <th>main_category</th>\n",
       "      <th>currency</th>\n",
       "      <th>deadline</th>\n",
       "      <th>goal</th>\n",
       "      <th>launched</th>\n",
       "      <th>pledged</th>\n",
       "      <th>state</th>\n",
       "      <th>backers</th>\n",
       "      <th>country</th>\n",
       "      <th>usd pledged</th>\n",
       "      <th>usd_pledged_real</th>\n",
       "      <th>usd_goal_real</th>\n",
       "    </tr>\n",
       "  </thead>\n",
       "  <tbody>\n",
       "    <tr>\n",
       "      <th>0</th>\n",
       "      <td>1000002330</td>\n",
       "      <td>The Songs of Adelaide &amp; Abullah</td>\n",
       "      <td>Poetry</td>\n",
       "      <td>Publishing</td>\n",
       "      <td>GBP</td>\n",
       "      <td>2015-10-09</td>\n",
       "      <td>1000.0</td>\n",
       "      <td>2015-08-11 12:12:28</td>\n",
       "      <td>0.0</td>\n",
       "      <td>0</td>\n",
       "      <td>0</td>\n",
       "      <td>1</td>\n",
       "      <td>0.0</td>\n",
       "      <td>0.0</td>\n",
       "      <td>1533.95</td>\n",
       "    </tr>\n",
       "    <tr>\n",
       "      <th>1</th>\n",
       "      <td>1000003930</td>\n",
       "      <td>Greeting From Earth: ZGAC Arts Capsule For ET</td>\n",
       "      <td>Narrative Film</td>\n",
       "      <td>Film &amp; Video</td>\n",
       "      <td>USD</td>\n",
       "      <td>2017-11-01</td>\n",
       "      <td>30000.0</td>\n",
       "      <td>2017-09-02 04:43:57</td>\n",
       "      <td>2421.0</td>\n",
       "      <td>0</td>\n",
       "      <td>15</td>\n",
       "      <td>0</td>\n",
       "      <td>100.0</td>\n",
       "      <td>2421.0</td>\n",
       "      <td>30000.00</td>\n",
       "    </tr>\n",
       "    <tr>\n",
       "      <th>2</th>\n",
       "      <td>1000004038</td>\n",
       "      <td>Where is Hank?</td>\n",
       "      <td>Narrative Film</td>\n",
       "      <td>Film &amp; Video</td>\n",
       "      <td>USD</td>\n",
       "      <td>2013-02-26</td>\n",
       "      <td>45000.0</td>\n",
       "      <td>2013-01-12 00:20:50</td>\n",
       "      <td>220.0</td>\n",
       "      <td>0</td>\n",
       "      <td>3</td>\n",
       "      <td>0</td>\n",
       "      <td>220.0</td>\n",
       "      <td>220.0</td>\n",
       "      <td>45000.00</td>\n",
       "    </tr>\n",
       "    <tr>\n",
       "      <th>3</th>\n",
       "      <td>1000007540</td>\n",
       "      <td>ToshiCapital Rekordz Needs Help to Complete Album</td>\n",
       "      <td>Music</td>\n",
       "      <td>Music</td>\n",
       "      <td>USD</td>\n",
       "      <td>2012-04-16</td>\n",
       "      <td>5000.0</td>\n",
       "      <td>2012-03-17 03:24:11</td>\n",
       "      <td>1.0</td>\n",
       "      <td>0</td>\n",
       "      <td>1</td>\n",
       "      <td>0</td>\n",
       "      <td>1.0</td>\n",
       "      <td>1.0</td>\n",
       "      <td>5000.00</td>\n",
       "    </tr>\n",
       "    <tr>\n",
       "      <th>5</th>\n",
       "      <td>1000014025</td>\n",
       "      <td>Monarch Espresso Bar</td>\n",
       "      <td>Restaurants</td>\n",
       "      <td>Food</td>\n",
       "      <td>USD</td>\n",
       "      <td>2016-04-01</td>\n",
       "      <td>50000.0</td>\n",
       "      <td>2016-02-26 13:38:27</td>\n",
       "      <td>52375.0</td>\n",
       "      <td>1</td>\n",
       "      <td>224</td>\n",
       "      <td>0</td>\n",
       "      <td>52375.0</td>\n",
       "      <td>52375.0</td>\n",
       "      <td>50000.00</td>\n",
       "    </tr>\n",
       "    <tr>\n",
       "      <th>...</th>\n",
       "      <td>...</td>\n",
       "      <td>...</td>\n",
       "      <td>...</td>\n",
       "      <td>...</td>\n",
       "      <td>...</td>\n",
       "      <td>...</td>\n",
       "      <td>...</td>\n",
       "      <td>...</td>\n",
       "      <td>...</td>\n",
       "      <td>...</td>\n",
       "      <td>...</td>\n",
       "      <td>...</td>\n",
       "      <td>...</td>\n",
       "      <td>...</td>\n",
       "      <td>...</td>\n",
       "    </tr>\n",
       "    <tr>\n",
       "      <th>378654</th>\n",
       "      <td>999975836</td>\n",
       "      <td>Homemade fresh dog food, Cleveland OH</td>\n",
       "      <td>Small Batch</td>\n",
       "      <td>Food</td>\n",
       "      <td>USD</td>\n",
       "      <td>2017-04-19</td>\n",
       "      <td>6500.0</td>\n",
       "      <td>2017-03-20 22:08:22</td>\n",
       "      <td>154.0</td>\n",
       "      <td>0</td>\n",
       "      <td>4</td>\n",
       "      <td>0</td>\n",
       "      <td>0.0</td>\n",
       "      <td>154.0</td>\n",
       "      <td>6500.00</td>\n",
       "    </tr>\n",
       "    <tr>\n",
       "      <th>378657</th>\n",
       "      <td>999977640</td>\n",
       "      <td>The Tribe</td>\n",
       "      <td>Narrative Film</td>\n",
       "      <td>Film &amp; Video</td>\n",
       "      <td>USD</td>\n",
       "      <td>2011-07-19</td>\n",
       "      <td>1500.0</td>\n",
       "      <td>2011-06-22 03:35:14</td>\n",
       "      <td>155.0</td>\n",
       "      <td>0</td>\n",
       "      <td>5</td>\n",
       "      <td>0</td>\n",
       "      <td>155.0</td>\n",
       "      <td>155.0</td>\n",
       "      <td>1500.00</td>\n",
       "    </tr>\n",
       "    <tr>\n",
       "      <th>378658</th>\n",
       "      <td>999986353</td>\n",
       "      <td>Walls of Remedy- New lesbian Romantic Comedy f...</td>\n",
       "      <td>Narrative Film</td>\n",
       "      <td>Film &amp; Video</td>\n",
       "      <td>USD</td>\n",
       "      <td>2010-08-16</td>\n",
       "      <td>15000.0</td>\n",
       "      <td>2010-07-01 19:40:30</td>\n",
       "      <td>20.0</td>\n",
       "      <td>0</td>\n",
       "      <td>1</td>\n",
       "      <td>0</td>\n",
       "      <td>20.0</td>\n",
       "      <td>20.0</td>\n",
       "      <td>15000.00</td>\n",
       "    </tr>\n",
       "    <tr>\n",
       "      <th>378659</th>\n",
       "      <td>999987933</td>\n",
       "      <td>BioDefense Education Kit</td>\n",
       "      <td>Technology</td>\n",
       "      <td>Technology</td>\n",
       "      <td>USD</td>\n",
       "      <td>2016-02-13</td>\n",
       "      <td>15000.0</td>\n",
       "      <td>2016-01-13 18:13:53</td>\n",
       "      <td>200.0</td>\n",
       "      <td>0</td>\n",
       "      <td>6</td>\n",
       "      <td>0</td>\n",
       "      <td>200.0</td>\n",
       "      <td>200.0</td>\n",
       "      <td>15000.00</td>\n",
       "    </tr>\n",
       "    <tr>\n",
       "      <th>378660</th>\n",
       "      <td>999988282</td>\n",
       "      <td>Nou Renmen Ayiti!  We Love Haiti!</td>\n",
       "      <td>Performance Art</td>\n",
       "      <td>Art</td>\n",
       "      <td>USD</td>\n",
       "      <td>2011-08-16</td>\n",
       "      <td>2000.0</td>\n",
       "      <td>2011-07-19 09:07:47</td>\n",
       "      <td>524.0</td>\n",
       "      <td>0</td>\n",
       "      <td>17</td>\n",
       "      <td>0</td>\n",
       "      <td>524.0</td>\n",
       "      <td>524.0</td>\n",
       "      <td>2000.00</td>\n",
       "    </tr>\n",
       "  </tbody>\n",
       "</table>\n",
       "<p>331675 rows × 15 columns</p>\n",
       "</div>"
      ],
      "text/plain": [
       "                ID                                               name  \\\n",
       "0       1000002330                    The Songs of Adelaide & Abullah   \n",
       "1       1000003930      Greeting From Earth: ZGAC Arts Capsule For ET   \n",
       "2       1000004038                                     Where is Hank?   \n",
       "3       1000007540  ToshiCapital Rekordz Needs Help to Complete Album   \n",
       "5       1000014025                               Monarch Espresso Bar   \n",
       "...            ...                                                ...   \n",
       "378654   999975836              Homemade fresh dog food, Cleveland OH   \n",
       "378657   999977640                                          The Tribe   \n",
       "378658   999986353  Walls of Remedy- New lesbian Romantic Comedy f...   \n",
       "378659   999987933                           BioDefense Education Kit   \n",
       "378660   999988282                  Nou Renmen Ayiti!  We Love Haiti!   \n",
       "\n",
       "               category main_category currency    deadline     goal  \\\n",
       "0                Poetry    Publishing      GBP  2015-10-09   1000.0   \n",
       "1        Narrative Film  Film & Video      USD  2017-11-01  30000.0   \n",
       "2        Narrative Film  Film & Video      USD  2013-02-26  45000.0   \n",
       "3                 Music         Music      USD  2012-04-16   5000.0   \n",
       "5           Restaurants          Food      USD  2016-04-01  50000.0   \n",
       "...                 ...           ...      ...         ...      ...   \n",
       "378654      Small Batch          Food      USD  2017-04-19   6500.0   \n",
       "378657   Narrative Film  Film & Video      USD  2011-07-19   1500.0   \n",
       "378658   Narrative Film  Film & Video      USD  2010-08-16  15000.0   \n",
       "378659       Technology    Technology      USD  2016-02-13  15000.0   \n",
       "378660  Performance Art           Art      USD  2011-08-16   2000.0   \n",
       "\n",
       "                   launched  pledged state  backers country  usd pledged  \\\n",
       "0       2015-08-11 12:12:28      0.0     0        0       1          0.0   \n",
       "1       2017-09-02 04:43:57   2421.0     0       15       0        100.0   \n",
       "2       2013-01-12 00:20:50    220.0     0        3       0        220.0   \n",
       "3       2012-03-17 03:24:11      1.0     0        1       0          1.0   \n",
       "5       2016-02-26 13:38:27  52375.0     1      224       0      52375.0   \n",
       "...                     ...      ...   ...      ...     ...          ...   \n",
       "378654  2017-03-20 22:08:22    154.0     0        4       0          0.0   \n",
       "378657  2011-06-22 03:35:14    155.0     0        5       0        155.0   \n",
       "378658  2010-07-01 19:40:30     20.0     0        1       0         20.0   \n",
       "378659  2016-01-13 18:13:53    200.0     0        6       0        200.0   \n",
       "378660  2011-07-19 09:07:47    524.0     0       17       0        524.0   \n",
       "\n",
       "        usd_pledged_real  usd_goal_real  \n",
       "0                    0.0        1533.95  \n",
       "1                 2421.0       30000.00  \n",
       "2                  220.0       45000.00  \n",
       "3                    1.0        5000.00  \n",
       "5                52375.0       50000.00  \n",
       "...                  ...            ...  \n",
       "378654             154.0        6500.00  \n",
       "378657             155.0        1500.00  \n",
       "378658              20.0       15000.00  \n",
       "378659             200.0       15000.00  \n",
       "378660             524.0        2000.00  \n",
       "\n",
       "[331675 rows x 15 columns]"
      ]
     },
     "execution_count": 276,
     "metadata": {},
     "output_type": "execute_result"
    }
   ],
   "source": [
    "country = ['US', 'GB', 'CA', 'AU', 'DE', 'FR', 'NL', 'IT', 'ES', 'SE', 'MX', 'NZ', 'DK', 'IE', 'CH', 'NO', 'BE', 'AT', 'HK', 'SG', 'N,0\"', 'LU', 'JP']\n",
    "for i in range(23):\n",
    "    df_ks.loc[df_ks[\"country\"] == country[i], \"country\"] = i\n",
    "df_ks"
   ]
  },
  {
   "cell_type": "code",
   "execution_count": 277,
   "metadata": {},
   "outputs": [],
   "source": [
    "#main_categoryをダミー変数に変換\n",
    "main_category = [\"Film & Video\", \"Music\", \"Publishing\", \"Games\", \"Technology\", \"Art\", \"Design\", \"Food\", \"Fashion\", \"Theater\", \"Comics\", \"Photography\", \"Crafts\", \"Journalism\", \"Dance\"]\n",
    "for i in range(15):\n",
    "    df_ks.loc[df_ks[\"main_category\"] == main_category[i], \"main_category\"] = i"
   ]
  },
  {
   "cell_type": "code",
   "execution_count": 278,
   "metadata": {},
   "outputs": [],
   "source": [
    "#currencyをダミー変数に変換\n",
    "df_ks[\"currency\"].value_counts()\n",
    "currency = [\"USD\", \"GBP\", \"EUR\", \"CAD\", \"AUD\", \"SEK\", \"MXN\", \"NZD\", \"DKK\", \"CHF\", \"NOK\", \"HKD\", \"SGD\", \"JPY\"]\n",
    "for i in range(14):\n",
    "    df_ks.loc[df_ks[\"currency\"] == currency[i], \"currency\"] = i"
   ]
  },
  {
   "cell_type": "code",
   "execution_count": 279,
   "metadata": {},
   "outputs": [
    {
     "data": {
      "text/html": [
       "<div>\n",
       "<style scoped>\n",
       "    .dataframe tbody tr th:only-of-type {\n",
       "        vertical-align: middle;\n",
       "    }\n",
       "\n",
       "    .dataframe tbody tr th {\n",
       "        vertical-align: top;\n",
       "    }\n",
       "\n",
       "    .dataframe thead th {\n",
       "        text-align: right;\n",
       "    }\n",
       "</style>\n",
       "<table border=\"1\" class=\"dataframe\">\n",
       "  <thead>\n",
       "    <tr style=\"text-align: right;\">\n",
       "      <th></th>\n",
       "      <th>ID</th>\n",
       "      <th>name</th>\n",
       "      <th>category</th>\n",
       "      <th>main_category</th>\n",
       "      <th>currency</th>\n",
       "      <th>deadline</th>\n",
       "      <th>goal</th>\n",
       "      <th>launched</th>\n",
       "      <th>pledged</th>\n",
       "      <th>state</th>\n",
       "      <th>backers</th>\n",
       "      <th>country</th>\n",
       "      <th>usd pledged</th>\n",
       "      <th>usd_pledged_real</th>\n",
       "      <th>usd_goal_real</th>\n",
       "      <th>days</th>\n",
       "    </tr>\n",
       "  </thead>\n",
       "  <tbody>\n",
       "    <tr>\n",
       "      <th>0</th>\n",
       "      <td>1000002330</td>\n",
       "      <td>The Songs of Adelaide &amp; Abullah</td>\n",
       "      <td>Poetry</td>\n",
       "      <td>2</td>\n",
       "      <td>1</td>\n",
       "      <td>2015-10-09</td>\n",
       "      <td>1000.0</td>\n",
       "      <td>2015-08-11 12:12:28</td>\n",
       "      <td>0.0</td>\n",
       "      <td>0</td>\n",
       "      <td>0</td>\n",
       "      <td>1</td>\n",
       "      <td>0.0</td>\n",
       "      <td>0.0</td>\n",
       "      <td>1533.95</td>\n",
       "      <td>58</td>\n",
       "    </tr>\n",
       "    <tr>\n",
       "      <th>1</th>\n",
       "      <td>1000003930</td>\n",
       "      <td>Greeting From Earth: ZGAC Arts Capsule For ET</td>\n",
       "      <td>Narrative Film</td>\n",
       "      <td>0</td>\n",
       "      <td>0</td>\n",
       "      <td>2017-11-01</td>\n",
       "      <td>30000.0</td>\n",
       "      <td>2017-09-02 04:43:57</td>\n",
       "      <td>2421.0</td>\n",
       "      <td>0</td>\n",
       "      <td>15</td>\n",
       "      <td>0</td>\n",
       "      <td>100.0</td>\n",
       "      <td>2421.0</td>\n",
       "      <td>30000.00</td>\n",
       "      <td>59</td>\n",
       "    </tr>\n",
       "    <tr>\n",
       "      <th>2</th>\n",
       "      <td>1000004038</td>\n",
       "      <td>Where is Hank?</td>\n",
       "      <td>Narrative Film</td>\n",
       "      <td>0</td>\n",
       "      <td>0</td>\n",
       "      <td>2013-02-26</td>\n",
       "      <td>45000.0</td>\n",
       "      <td>2013-01-12 00:20:50</td>\n",
       "      <td>220.0</td>\n",
       "      <td>0</td>\n",
       "      <td>3</td>\n",
       "      <td>0</td>\n",
       "      <td>220.0</td>\n",
       "      <td>220.0</td>\n",
       "      <td>45000.00</td>\n",
       "      <td>44</td>\n",
       "    </tr>\n",
       "    <tr>\n",
       "      <th>3</th>\n",
       "      <td>1000007540</td>\n",
       "      <td>ToshiCapital Rekordz Needs Help to Complete Album</td>\n",
       "      <td>Music</td>\n",
       "      <td>1</td>\n",
       "      <td>0</td>\n",
       "      <td>2012-04-16</td>\n",
       "      <td>5000.0</td>\n",
       "      <td>2012-03-17 03:24:11</td>\n",
       "      <td>1.0</td>\n",
       "      <td>0</td>\n",
       "      <td>1</td>\n",
       "      <td>0</td>\n",
       "      <td>1.0</td>\n",
       "      <td>1.0</td>\n",
       "      <td>5000.00</td>\n",
       "      <td>29</td>\n",
       "    </tr>\n",
       "    <tr>\n",
       "      <th>5</th>\n",
       "      <td>1000014025</td>\n",
       "      <td>Monarch Espresso Bar</td>\n",
       "      <td>Restaurants</td>\n",
       "      <td>7</td>\n",
       "      <td>0</td>\n",
       "      <td>2016-04-01</td>\n",
       "      <td>50000.0</td>\n",
       "      <td>2016-02-26 13:38:27</td>\n",
       "      <td>52375.0</td>\n",
       "      <td>1</td>\n",
       "      <td>224</td>\n",
       "      <td>0</td>\n",
       "      <td>52375.0</td>\n",
       "      <td>52375.0</td>\n",
       "      <td>50000.00</td>\n",
       "      <td>34</td>\n",
       "    </tr>\n",
       "    <tr>\n",
       "      <th>...</th>\n",
       "      <td>...</td>\n",
       "      <td>...</td>\n",
       "      <td>...</td>\n",
       "      <td>...</td>\n",
       "      <td>...</td>\n",
       "      <td>...</td>\n",
       "      <td>...</td>\n",
       "      <td>...</td>\n",
       "      <td>...</td>\n",
       "      <td>...</td>\n",
       "      <td>...</td>\n",
       "      <td>...</td>\n",
       "      <td>...</td>\n",
       "      <td>...</td>\n",
       "      <td>...</td>\n",
       "      <td>...</td>\n",
       "    </tr>\n",
       "    <tr>\n",
       "      <th>378654</th>\n",
       "      <td>999975836</td>\n",
       "      <td>Homemade fresh dog food, Cleveland OH</td>\n",
       "      <td>Small Batch</td>\n",
       "      <td>7</td>\n",
       "      <td>0</td>\n",
       "      <td>2017-04-19</td>\n",
       "      <td>6500.0</td>\n",
       "      <td>2017-03-20 22:08:22</td>\n",
       "      <td>154.0</td>\n",
       "      <td>0</td>\n",
       "      <td>4</td>\n",
       "      <td>0</td>\n",
       "      <td>0.0</td>\n",
       "      <td>154.0</td>\n",
       "      <td>6500.00</td>\n",
       "      <td>29</td>\n",
       "    </tr>\n",
       "    <tr>\n",
       "      <th>378657</th>\n",
       "      <td>999977640</td>\n",
       "      <td>The Tribe</td>\n",
       "      <td>Narrative Film</td>\n",
       "      <td>0</td>\n",
       "      <td>0</td>\n",
       "      <td>2011-07-19</td>\n",
       "      <td>1500.0</td>\n",
       "      <td>2011-06-22 03:35:14</td>\n",
       "      <td>155.0</td>\n",
       "      <td>0</td>\n",
       "      <td>5</td>\n",
       "      <td>0</td>\n",
       "      <td>155.0</td>\n",
       "      <td>155.0</td>\n",
       "      <td>1500.00</td>\n",
       "      <td>26</td>\n",
       "    </tr>\n",
       "    <tr>\n",
       "      <th>378658</th>\n",
       "      <td>999986353</td>\n",
       "      <td>Walls of Remedy- New lesbian Romantic Comedy f...</td>\n",
       "      <td>Narrative Film</td>\n",
       "      <td>0</td>\n",
       "      <td>0</td>\n",
       "      <td>2010-08-16</td>\n",
       "      <td>15000.0</td>\n",
       "      <td>2010-07-01 19:40:30</td>\n",
       "      <td>20.0</td>\n",
       "      <td>0</td>\n",
       "      <td>1</td>\n",
       "      <td>0</td>\n",
       "      <td>20.0</td>\n",
       "      <td>20.0</td>\n",
       "      <td>15000.00</td>\n",
       "      <td>45</td>\n",
       "    </tr>\n",
       "    <tr>\n",
       "      <th>378659</th>\n",
       "      <td>999987933</td>\n",
       "      <td>BioDefense Education Kit</td>\n",
       "      <td>Technology</td>\n",
       "      <td>4</td>\n",
       "      <td>0</td>\n",
       "      <td>2016-02-13</td>\n",
       "      <td>15000.0</td>\n",
       "      <td>2016-01-13 18:13:53</td>\n",
       "      <td>200.0</td>\n",
       "      <td>0</td>\n",
       "      <td>6</td>\n",
       "      <td>0</td>\n",
       "      <td>200.0</td>\n",
       "      <td>200.0</td>\n",
       "      <td>15000.00</td>\n",
       "      <td>30</td>\n",
       "    </tr>\n",
       "    <tr>\n",
       "      <th>378660</th>\n",
       "      <td>999988282</td>\n",
       "      <td>Nou Renmen Ayiti!  We Love Haiti!</td>\n",
       "      <td>Performance Art</td>\n",
       "      <td>5</td>\n",
       "      <td>0</td>\n",
       "      <td>2011-08-16</td>\n",
       "      <td>2000.0</td>\n",
       "      <td>2011-07-19 09:07:47</td>\n",
       "      <td>524.0</td>\n",
       "      <td>0</td>\n",
       "      <td>17</td>\n",
       "      <td>0</td>\n",
       "      <td>524.0</td>\n",
       "      <td>524.0</td>\n",
       "      <td>2000.00</td>\n",
       "      <td>27</td>\n",
       "    </tr>\n",
       "  </tbody>\n",
       "</table>\n",
       "<p>331675 rows × 16 columns</p>\n",
       "</div>"
      ],
      "text/plain": [
       "                ID                                               name  \\\n",
       "0       1000002330                    The Songs of Adelaide & Abullah   \n",
       "1       1000003930      Greeting From Earth: ZGAC Arts Capsule For ET   \n",
       "2       1000004038                                     Where is Hank?   \n",
       "3       1000007540  ToshiCapital Rekordz Needs Help to Complete Album   \n",
       "5       1000014025                               Monarch Espresso Bar   \n",
       "...            ...                                                ...   \n",
       "378654   999975836              Homemade fresh dog food, Cleveland OH   \n",
       "378657   999977640                                          The Tribe   \n",
       "378658   999986353  Walls of Remedy- New lesbian Romantic Comedy f...   \n",
       "378659   999987933                           BioDefense Education Kit   \n",
       "378660   999988282                  Nou Renmen Ayiti!  We Love Haiti!   \n",
       "\n",
       "               category main_category currency   deadline     goal  \\\n",
       "0                Poetry             2        1 2015-10-09   1000.0   \n",
       "1        Narrative Film             0        0 2017-11-01  30000.0   \n",
       "2        Narrative Film             0        0 2013-02-26  45000.0   \n",
       "3                 Music             1        0 2012-04-16   5000.0   \n",
       "5           Restaurants             7        0 2016-04-01  50000.0   \n",
       "...                 ...           ...      ...        ...      ...   \n",
       "378654      Small Batch             7        0 2017-04-19   6500.0   \n",
       "378657   Narrative Film             0        0 2011-07-19   1500.0   \n",
       "378658   Narrative Film             0        0 2010-08-16  15000.0   \n",
       "378659       Technology             4        0 2016-02-13  15000.0   \n",
       "378660  Performance Art             5        0 2011-08-16   2000.0   \n",
       "\n",
       "                  launched  pledged state  backers country  usd pledged  \\\n",
       "0      2015-08-11 12:12:28      0.0     0        0       1          0.0   \n",
       "1      2017-09-02 04:43:57   2421.0     0       15       0        100.0   \n",
       "2      2013-01-12 00:20:50    220.0     0        3       0        220.0   \n",
       "3      2012-03-17 03:24:11      1.0     0        1       0          1.0   \n",
       "5      2016-02-26 13:38:27  52375.0     1      224       0      52375.0   \n",
       "...                    ...      ...   ...      ...     ...          ...   \n",
       "378654 2017-03-20 22:08:22    154.0     0        4       0          0.0   \n",
       "378657 2011-06-22 03:35:14    155.0     0        5       0        155.0   \n",
       "378658 2010-07-01 19:40:30     20.0     0        1       0         20.0   \n",
       "378659 2016-01-13 18:13:53    200.0     0        6       0        200.0   \n",
       "378660 2011-07-19 09:07:47    524.0     0       17       0        524.0   \n",
       "\n",
       "        usd_pledged_real  usd_goal_real  days  \n",
       "0                    0.0        1533.95    58  \n",
       "1                 2421.0       30000.00    59  \n",
       "2                  220.0       45000.00    44  \n",
       "3                    1.0        5000.00    29  \n",
       "5                52375.0       50000.00    34  \n",
       "...                  ...            ...   ...  \n",
       "378654             154.0        6500.00    29  \n",
       "378657             155.0        1500.00    26  \n",
       "378658              20.0       15000.00    45  \n",
       "378659             200.0       15000.00    30  \n",
       "378660             524.0        2000.00    27  \n",
       "\n",
       "[331675 rows x 16 columns]"
      ]
     },
     "metadata": {},
     "output_type": "display_data"
    }
   ],
   "source": [
    "#deadlineとlaunchedからdays(募集期間)を計算\n",
    "df_ks['deadline'] = pd.to_datetime(df_ks[\"deadline\"])\n",
    "df_ks[\"launched\"] = pd.to_datetime(df_ks[\"launched\"])\n",
    "df_ks[\"days\"] = (df_ks[\"deadline\"] - df_ks[\"launched\"]).dt.days\n",
    "display(df_ks)"
   ]
  },
  {
   "cell_type": "code",
   "execution_count": 280,
   "metadata": {},
   "outputs": [
    {
     "data": {
      "text/html": [
       "<div>\n",
       "<style scoped>\n",
       "    .dataframe tbody tr th:only-of-type {\n",
       "        vertical-align: middle;\n",
       "    }\n",
       "\n",
       "    .dataframe tbody tr th {\n",
       "        vertical-align: top;\n",
       "    }\n",
       "\n",
       "    .dataframe thead th {\n",
       "        text-align: right;\n",
       "    }\n",
       "</style>\n",
       "<table border=\"1\" class=\"dataframe\">\n",
       "  <thead>\n",
       "    <tr style=\"text-align: right;\">\n",
       "      <th></th>\n",
       "      <th>main_category</th>\n",
       "      <th>currency</th>\n",
       "      <th>goal</th>\n",
       "      <th>state</th>\n",
       "      <th>backers</th>\n",
       "      <th>country</th>\n",
       "      <th>usd_goal_real</th>\n",
       "      <th>days</th>\n",
       "    </tr>\n",
       "  </thead>\n",
       "  <tbody>\n",
       "    <tr>\n",
       "      <th>0</th>\n",
       "      <td>2</td>\n",
       "      <td>1</td>\n",
       "      <td>1000.0</td>\n",
       "      <td>0</td>\n",
       "      <td>0</td>\n",
       "      <td>1</td>\n",
       "      <td>1533.95</td>\n",
       "      <td>58</td>\n",
       "    </tr>\n",
       "    <tr>\n",
       "      <th>1</th>\n",
       "      <td>0</td>\n",
       "      <td>0</td>\n",
       "      <td>30000.0</td>\n",
       "      <td>0</td>\n",
       "      <td>15</td>\n",
       "      <td>0</td>\n",
       "      <td>30000.00</td>\n",
       "      <td>59</td>\n",
       "    </tr>\n",
       "    <tr>\n",
       "      <th>2</th>\n",
       "      <td>0</td>\n",
       "      <td>0</td>\n",
       "      <td>45000.0</td>\n",
       "      <td>0</td>\n",
       "      <td>3</td>\n",
       "      <td>0</td>\n",
       "      <td>45000.00</td>\n",
       "      <td>44</td>\n",
       "    </tr>\n",
       "    <tr>\n",
       "      <th>3</th>\n",
       "      <td>1</td>\n",
       "      <td>0</td>\n",
       "      <td>5000.0</td>\n",
       "      <td>0</td>\n",
       "      <td>1</td>\n",
       "      <td>0</td>\n",
       "      <td>5000.00</td>\n",
       "      <td>29</td>\n",
       "    </tr>\n",
       "    <tr>\n",
       "      <th>5</th>\n",
       "      <td>7</td>\n",
       "      <td>0</td>\n",
       "      <td>50000.0</td>\n",
       "      <td>1</td>\n",
       "      <td>224</td>\n",
       "      <td>0</td>\n",
       "      <td>50000.00</td>\n",
       "      <td>34</td>\n",
       "    </tr>\n",
       "    <tr>\n",
       "      <th>...</th>\n",
       "      <td>...</td>\n",
       "      <td>...</td>\n",
       "      <td>...</td>\n",
       "      <td>...</td>\n",
       "      <td>...</td>\n",
       "      <td>...</td>\n",
       "      <td>...</td>\n",
       "      <td>...</td>\n",
       "    </tr>\n",
       "    <tr>\n",
       "      <th>378654</th>\n",
       "      <td>7</td>\n",
       "      <td>0</td>\n",
       "      <td>6500.0</td>\n",
       "      <td>0</td>\n",
       "      <td>4</td>\n",
       "      <td>0</td>\n",
       "      <td>6500.00</td>\n",
       "      <td>29</td>\n",
       "    </tr>\n",
       "    <tr>\n",
       "      <th>378657</th>\n",
       "      <td>0</td>\n",
       "      <td>0</td>\n",
       "      <td>1500.0</td>\n",
       "      <td>0</td>\n",
       "      <td>5</td>\n",
       "      <td>0</td>\n",
       "      <td>1500.00</td>\n",
       "      <td>26</td>\n",
       "    </tr>\n",
       "    <tr>\n",
       "      <th>378658</th>\n",
       "      <td>0</td>\n",
       "      <td>0</td>\n",
       "      <td>15000.0</td>\n",
       "      <td>0</td>\n",
       "      <td>1</td>\n",
       "      <td>0</td>\n",
       "      <td>15000.00</td>\n",
       "      <td>45</td>\n",
       "    </tr>\n",
       "    <tr>\n",
       "      <th>378659</th>\n",
       "      <td>4</td>\n",
       "      <td>0</td>\n",
       "      <td>15000.0</td>\n",
       "      <td>0</td>\n",
       "      <td>6</td>\n",
       "      <td>0</td>\n",
       "      <td>15000.00</td>\n",
       "      <td>30</td>\n",
       "    </tr>\n",
       "    <tr>\n",
       "      <th>378660</th>\n",
       "      <td>5</td>\n",
       "      <td>0</td>\n",
       "      <td>2000.0</td>\n",
       "      <td>0</td>\n",
       "      <td>17</td>\n",
       "      <td>0</td>\n",
       "      <td>2000.00</td>\n",
       "      <td>27</td>\n",
       "    </tr>\n",
       "  </tbody>\n",
       "</table>\n",
       "<p>331675 rows × 8 columns</p>\n",
       "</div>"
      ],
      "text/plain": [
       "       main_category currency     goal state  backers country  usd_goal_real  \\\n",
       "0                  2        1   1000.0     0        0       1        1533.95   \n",
       "1                  0        0  30000.0     0       15       0       30000.00   \n",
       "2                  0        0  45000.0     0        3       0       45000.00   \n",
       "3                  1        0   5000.0     0        1       0        5000.00   \n",
       "5                  7        0  50000.0     1      224       0       50000.00   \n",
       "...              ...      ...      ...   ...      ...     ...            ...   \n",
       "378654             7        0   6500.0     0        4       0        6500.00   \n",
       "378657             0        0   1500.0     0        5       0        1500.00   \n",
       "378658             0        0  15000.0     0        1       0       15000.00   \n",
       "378659             4        0  15000.0     0        6       0       15000.00   \n",
       "378660             5        0   2000.0     0       17       0        2000.00   \n",
       "\n",
       "        days  \n",
       "0         58  \n",
       "1         59  \n",
       "2         44  \n",
       "3         29  \n",
       "5         34  \n",
       "...      ...  \n",
       "378654    29  \n",
       "378657    26  \n",
       "378658    45  \n",
       "378659    30  \n",
       "378660    27  \n",
       "\n",
       "[331675 rows x 8 columns]"
      ]
     },
     "metadata": {},
     "output_type": "display_data"
    }
   ],
   "source": [
    "#クラウドファンディングが終る前に入手できない変数や不要と考えられる説明変数を取り除く\n",
    "df_ks = df_ks.drop([\"ID\", \"name\", \"category\", \"deadline\", \"launched\", \"pledged\", \"usd pledged\", \"usd_pledged_real\"], axis = 1)\n",
    "display(df_ks)"
   ]
  },
  {
   "cell_type": "code",
   "execution_count": 281,
   "metadata": {},
   "outputs": [],
   "source": [
    "#まずはDAY1と同数・同種の説明変数で学習を行い、精度を比較する"
   ]
  },
  {
   "cell_type": "code",
   "execution_count": 282,
   "metadata": {},
   "outputs": [],
   "source": [
    "y = df_ks[\"state\"].values\n",
    "y = y.astype('int')\n",
    "X = df_ks.drop([\"state\",\"main_category\", \"currency\", \"country\"], axis = 1).values"
   ]
  },
  {
   "cell_type": "code",
   "execution_count": 283,
   "metadata": {},
   "outputs": [],
   "source": [
    "test_size = 0.2\n",
    "X_train, X_test, y_train, y_test = train_test_split(X, y, test_size=test_size, random_state=1234)"
   ]
  },
  {
   "cell_type": "code",
   "execution_count": 284,
   "metadata": {},
   "outputs": [
    {
     "data": {
      "text/plain": [
       "SGDClassifier(loss='log', max_iter=10000, penalty='none', random_state=1234)"
      ]
     },
     "execution_count": 284,
     "metadata": {},
     "output_type": "execute_result"
    }
   ],
   "source": [
    "clf = SGDClassifier (loss = \"log\", penalty = \"none\", max_iter = 10000, fit_intercept = True, random_state = 1234, tol = 1e-3)\n",
    "clf.fit(X_train, y_train)"
   ]
  },
  {
   "cell_type": "code",
   "execution_count": 285,
   "metadata": {},
   "outputs": [],
   "source": [
    "#訓練データに対する予測を実行\n",
    "y_pred_train = clf.predict(X_train)"
   ]
  },
  {
   "cell_type": "code",
   "execution_count": 286,
   "metadata": {},
   "outputs": [
    {
     "name": "stdout",
     "output_type": "stream",
     "text": [
      "正答率（Accuracy） = 88.194%\n",
      "適合率（Precision） = 96.553%\n",
      "再現率（Recall） = 83.141%\n",
      "F1値（F1-score） = 89.347%\n"
     ]
    }
   ],
   "source": [
    "#訓練データに対するaccuracy, precision, recall, f1を計算 \n",
    "accuracy =  accuracy_score(y_train, y_pred_train)\n",
    "print('正答率（Accuracy） = {:.3f}%'.format(100 * accuracy))\n",
    "\n",
    "precision, recall, f1_score, _ = precision_recall_fscore_support(y_train, y_pred_train)\n",
    "\n",
    "print('適合率（Precision） = {:.3f}%'.format(100 * precision[0]))\n",
    "print('再現率（Recall） = {:.3f}%'.format(100 * recall[0]))\n",
    "print('F1値（F1-score） = {:.3f}%'.format(100 * f1_score[0]))"
   ]
  },
  {
   "cell_type": "code",
   "execution_count": 287,
   "metadata": {},
   "outputs": [],
   "source": [
    "#テストデータに対する予測を実行\n",
    "y_pred_test = clf.predict(X_test)"
   ]
  },
  {
   "cell_type": "code",
   "execution_count": 288,
   "metadata": {},
   "outputs": [
    {
     "name": "stdout",
     "output_type": "stream",
     "text": [
      "正答率（Accuracy） = 88.201%\n",
      "適合率（Precision） = 96.602%\n",
      "再現率（Recall） = 83.226%\n",
      "F1値（F1-score） = 89.417%\n"
     ]
    }
   ],
   "source": [
    "#テストデータに対するaccuracy, precision, recall, f1を計算 \n",
    "accuracy =  accuracy_score(y_test, y_pred_test)\n",
    "print('正答率（Accuracy） = {:.3f}%'.format(100 * accuracy))\n",
    "\n",
    "precision, recall, f1_score, _ = precision_recall_fscore_support(y_test, y_pred_test)\n",
    "\n",
    "print('適合率（Precision） = {:.3f}%'.format(100 * precision[0]))\n",
    "print('再現率（Recall） = {:.3f}%'.format(100 * recall[0]))\n",
    "print('F1値（F1-score） = {:.3f}%'.format(100 * f1_score[0]))"
   ]
  },
  {
   "cell_type": "code",
   "execution_count": 289,
   "metadata": {},
   "outputs": [],
   "source": [
    "#ホールドアウト法でDAY1宿題と同数・同種の説明変数を用いて学習を行った場合、DAY1宿題との精度の比較をすると、Precisonがわずかに向上しているが、その他の指標は全て精度が下がっている。過度な情報の削減が原因として考えられるため、説明変数としてstate以外全てを用いてみる。"
   ]
  },
  {
   "cell_type": "code",
   "execution_count": 290,
   "metadata": {},
   "outputs": [],
   "source": [
    "y = df_ks[\"state\"].values\n",
    "y = y.astype('int')\n",
    "X = df_ks.drop(\"state\", axis = 1).values"
   ]
  },
  {
   "cell_type": "code",
   "execution_count": 291,
   "metadata": {},
   "outputs": [
    {
     "data": {
      "text/html": [
       "<div>\n",
       "<style scoped>\n",
       "    .dataframe tbody tr th:only-of-type {\n",
       "        vertical-align: middle;\n",
       "    }\n",
       "\n",
       "    .dataframe tbody tr th {\n",
       "        vertical-align: top;\n",
       "    }\n",
       "\n",
       "    .dataframe thead th {\n",
       "        text-align: right;\n",
       "    }\n",
       "</style>\n",
       "<table border=\"1\" class=\"dataframe\">\n",
       "  <thead>\n",
       "    <tr style=\"text-align: right;\">\n",
       "      <th></th>\n",
       "      <th>main_category</th>\n",
       "      <th>currency</th>\n",
       "      <th>goal</th>\n",
       "      <th>state</th>\n",
       "      <th>backers</th>\n",
       "      <th>country</th>\n",
       "      <th>usd_goal_real</th>\n",
       "      <th>days</th>\n",
       "    </tr>\n",
       "  </thead>\n",
       "  <tbody>\n",
       "    <tr>\n",
       "      <th>0</th>\n",
       "      <td>2</td>\n",
       "      <td>1</td>\n",
       "      <td>1000.0</td>\n",
       "      <td>0</td>\n",
       "      <td>0</td>\n",
       "      <td>1</td>\n",
       "      <td>1533.95</td>\n",
       "      <td>58</td>\n",
       "    </tr>\n",
       "    <tr>\n",
       "      <th>1</th>\n",
       "      <td>0</td>\n",
       "      <td>0</td>\n",
       "      <td>30000.0</td>\n",
       "      <td>0</td>\n",
       "      <td>15</td>\n",
       "      <td>0</td>\n",
       "      <td>30000.00</td>\n",
       "      <td>59</td>\n",
       "    </tr>\n",
       "    <tr>\n",
       "      <th>2</th>\n",
       "      <td>0</td>\n",
       "      <td>0</td>\n",
       "      <td>45000.0</td>\n",
       "      <td>0</td>\n",
       "      <td>3</td>\n",
       "      <td>0</td>\n",
       "      <td>45000.00</td>\n",
       "      <td>44</td>\n",
       "    </tr>\n",
       "    <tr>\n",
       "      <th>3</th>\n",
       "      <td>1</td>\n",
       "      <td>0</td>\n",
       "      <td>5000.0</td>\n",
       "      <td>0</td>\n",
       "      <td>1</td>\n",
       "      <td>0</td>\n",
       "      <td>5000.00</td>\n",
       "      <td>29</td>\n",
       "    </tr>\n",
       "    <tr>\n",
       "      <th>5</th>\n",
       "      <td>7</td>\n",
       "      <td>0</td>\n",
       "      <td>50000.0</td>\n",
       "      <td>1</td>\n",
       "      <td>224</td>\n",
       "      <td>0</td>\n",
       "      <td>50000.00</td>\n",
       "      <td>34</td>\n",
       "    </tr>\n",
       "    <tr>\n",
       "      <th>...</th>\n",
       "      <td>...</td>\n",
       "      <td>...</td>\n",
       "      <td>...</td>\n",
       "      <td>...</td>\n",
       "      <td>...</td>\n",
       "      <td>...</td>\n",
       "      <td>...</td>\n",
       "      <td>...</td>\n",
       "    </tr>\n",
       "    <tr>\n",
       "      <th>378654</th>\n",
       "      <td>7</td>\n",
       "      <td>0</td>\n",
       "      <td>6500.0</td>\n",
       "      <td>0</td>\n",
       "      <td>4</td>\n",
       "      <td>0</td>\n",
       "      <td>6500.00</td>\n",
       "      <td>29</td>\n",
       "    </tr>\n",
       "    <tr>\n",
       "      <th>378657</th>\n",
       "      <td>0</td>\n",
       "      <td>0</td>\n",
       "      <td>1500.0</td>\n",
       "      <td>0</td>\n",
       "      <td>5</td>\n",
       "      <td>0</td>\n",
       "      <td>1500.00</td>\n",
       "      <td>26</td>\n",
       "    </tr>\n",
       "    <tr>\n",
       "      <th>378658</th>\n",
       "      <td>0</td>\n",
       "      <td>0</td>\n",
       "      <td>15000.0</td>\n",
       "      <td>0</td>\n",
       "      <td>1</td>\n",
       "      <td>0</td>\n",
       "      <td>15000.00</td>\n",
       "      <td>45</td>\n",
       "    </tr>\n",
       "    <tr>\n",
       "      <th>378659</th>\n",
       "      <td>4</td>\n",
       "      <td>0</td>\n",
       "      <td>15000.0</td>\n",
       "      <td>0</td>\n",
       "      <td>6</td>\n",
       "      <td>0</td>\n",
       "      <td>15000.00</td>\n",
       "      <td>30</td>\n",
       "    </tr>\n",
       "    <tr>\n",
       "      <th>378660</th>\n",
       "      <td>5</td>\n",
       "      <td>0</td>\n",
       "      <td>2000.0</td>\n",
       "      <td>0</td>\n",
       "      <td>17</td>\n",
       "      <td>0</td>\n",
       "      <td>2000.00</td>\n",
       "      <td>27</td>\n",
       "    </tr>\n",
       "  </tbody>\n",
       "</table>\n",
       "<p>331675 rows × 8 columns</p>\n",
       "</div>"
      ],
      "text/plain": [
       "       main_category currency     goal state  backers country  usd_goal_real  \\\n",
       "0                  2        1   1000.0     0        0       1        1533.95   \n",
       "1                  0        0  30000.0     0       15       0       30000.00   \n",
       "2                  0        0  45000.0     0        3       0       45000.00   \n",
       "3                  1        0   5000.0     0        1       0        5000.00   \n",
       "5                  7        0  50000.0     1      224       0       50000.00   \n",
       "...              ...      ...      ...   ...      ...     ...            ...   \n",
       "378654             7        0   6500.0     0        4       0        6500.00   \n",
       "378657             0        0   1500.0     0        5       0        1500.00   \n",
       "378658             0        0  15000.0     0        1       0       15000.00   \n",
       "378659             4        0  15000.0     0        6       0       15000.00   \n",
       "378660             5        0   2000.0     0       17       0        2000.00   \n",
       "\n",
       "        days  \n",
       "0         58  \n",
       "1         59  \n",
       "2         44  \n",
       "3         29  \n",
       "5         34  \n",
       "...      ...  \n",
       "378654    29  \n",
       "378657    26  \n",
       "378658    45  \n",
       "378659    30  \n",
       "378660    27  \n",
       "\n",
       "[331675 rows x 8 columns]"
      ]
     },
     "metadata": {},
     "output_type": "display_data"
    }
   ],
   "source": [
    "display(df_ks)"
   ]
  },
  {
   "cell_type": "code",
   "execution_count": 292,
   "metadata": {},
   "outputs": [],
   "source": [
    "test_size = 0.2\n",
    "X_train, X_test, y_train, y_test = train_test_split(X, y, test_size=test_size, random_state=1234)"
   ]
  },
  {
   "cell_type": "code",
   "execution_count": 293,
   "metadata": {},
   "outputs": [
    {
     "data": {
      "text/plain": [
       "SGDClassifier(loss='log', max_iter=10000, penalty='none', random_state=1234)"
      ]
     },
     "execution_count": 293,
     "metadata": {},
     "output_type": "execute_result"
    }
   ],
   "source": [
    "clf = SGDClassifier (loss = \"log\", penalty = \"none\", max_iter = 10000, fit_intercept = True, random_state = 1234, tol = 1e-3)\n",
    "clf.fit(X_train, y_train)"
   ]
  },
  {
   "cell_type": "code",
   "execution_count": 294,
   "metadata": {},
   "outputs": [],
   "source": [
    "#訓練データに対する予測を実行\n",
    "y_pred_train = clf.predict(X_train)"
   ]
  },
  {
   "cell_type": "code",
   "execution_count": 295,
   "metadata": {},
   "outputs": [
    {
     "name": "stdout",
     "output_type": "stream",
     "text": [
      "正答率（Accuracy） = 88.304%\n",
      "適合率（Precision） = 96.577%\n",
      "再現率（Recall） = 83.309%\n",
      "F1値（F1-score） = 89.454%\n"
     ]
    }
   ],
   "source": [
    "#訓練データに対するaccuracy, precision, recall, f1を計算 \n",
    "accuracy =  accuracy_score(y_train, y_pred_train)\n",
    "print('正答率（Accuracy） = {:.3f}%'.format(100 * accuracy))\n",
    "\n",
    "precision, recall, f1_score, _ = precision_recall_fscore_support(y_train, y_pred_train)\n",
    "\n",
    "print('適合率（Precision） = {:.3f}%'.format(100 * precision[0]))\n",
    "print('再現率（Recall） = {:.3f}%'.format(100 * recall[0]))\n",
    "print('F1値（F1-score） = {:.3f}%'.format(100 * f1_score[0]))"
   ]
  },
  {
   "cell_type": "code",
   "execution_count": 296,
   "metadata": {},
   "outputs": [],
   "source": [
    "#テストデータに対する予測を実行\n",
    "y_pred_test = clf.predict(X_test)"
   ]
  },
  {
   "cell_type": "code",
   "execution_count": 297,
   "metadata": {},
   "outputs": [
    {
     "name": "stdout",
     "output_type": "stream",
     "text": [
      "正答率（Accuracy） = 88.293%\n",
      "適合率（Precision） = 96.627%\n",
      "再現率（Recall） = 83.362%\n",
      "F1値（F1-score） = 89.506%\n"
     ]
    }
   ],
   "source": [
    "#テストデータに対するaccuracy, precision, recall, f1を計算 \n",
    "accuracy =  accuracy_score(y_test, y_pred_test)\n",
    "print('正答率（Accuracy） = {:.3f}%'.format(100 * accuracy))\n",
    "\n",
    "precision, recall, f1_score, _ = precision_recall_fscore_support(y_test, y_pred_test)\n",
    "\n",
    "print('適合率（Precision） = {:.3f}%'.format(100 * precision[0]))\n",
    "print('再現率（Recall） = {:.3f}%'.format(100 * recall[0]))\n",
    "print('F1値（F1-score） = {:.3f}%'.format(100 * f1_score[0]))"
   ]
  },
  {
   "cell_type": "code",
   "execution_count": 298,
   "metadata": {},
   "outputs": [],
   "source": [
    "#説明変数として7個採用した場合でも精度はほとんど変わらず、DAY1と比較するとPrecisionだけがわずかに向上した。"
   ]
  },
  {
   "cell_type": "code",
   "execution_count": 299,
   "metadata": {},
   "outputs": [
    {
     "name": "stdout",
     "output_type": "stream",
     "text": [
      "Fold 1\n",
      "正答率（Accuracy） = 86.981%\n",
      "適合率（Precision） = 96.342%\n",
      "再現率（Recall） = 81.351%\n",
      "F1値（F1-score） = 88.214%\n",
      "\n",
      "Fold 2\n",
      "正答率（Accuracy） = 89.327%\n",
      "適合率（Precision） = 96.310%\n",
      "再現率（Recall） = 85.327%\n",
      "F1値（F1-score） = 90.486%\n",
      "\n",
      "Fold 3\n",
      "正答率（Accuracy） = 87.155%\n",
      "適合率（Precision） = 96.660%\n",
      "再現率（Recall） = 81.206%\n",
      "F1値（F1-score） = 88.262%\n",
      "\n",
      "Fold 4\n",
      "正答率（Accuracy） = 86.362%\n",
      "適合率（Precision） = 95.997%\n",
      "再現率（Recall） = 80.476%\n",
      "F1値（F1-score） = 87.554%\n",
      "\n",
      "Fold 5\n",
      "正答率（Accuracy） = 86.422%\n",
      "適合率（Precision） = 96.222%\n",
      "再現率（Recall） = 80.378%\n",
      "F1値（F1-score） = 87.589%\n",
      "\n",
      "正答率（Accuracy） = 87.249%\n",
      "適合率（Precision） = 96.306%\n",
      "再現率（Recall） = 81.747%\n",
      "F1値（F1-score） = 88.421%\n"
     ]
    }
   ],
   "source": [
    "#交差検証法\n",
    "n_split = 5\n",
    "\n",
    "cross_valid_accuracy = 0\n",
    "cross_valid_precision = 0\n",
    "cross_valid_recall = 0\n",
    "cross_valid_f1_score = 0\n",
    "\n",
    "split_num=1\n",
    "\n",
    "for train_idx, test_idx in KFold(n_splits = n_split, shuffle = True, random_state = 1234).split(X, y):\n",
    "    X_train, y_train = X[train_idx], y[train_idx]\n",
    "    X_test, y_test = X[test_idx], y[test_idx]\n",
    "    \n",
    "    clf = SGDClassifier(loss = \"log\", penalty = \"none\", max_iter = 10000, fit_intercept = True, random_state = 1234, tol = 1e-3)\n",
    "    clf.fit(X_train, y_train)\n",
    "    y_pred_test = clf.predict(X_test)\n",
    "    \n",
    "    accuracy =  accuracy_score(y_test, y_pred_test)\n",
    "    precision, recall, f1_score, _ = precision_recall_fscore_support(y_test, y_pred_test)\n",
    "    print(\"Fold %s\"%split_num)\n",
    "    print('正答率（Accuracy） = {:.3f}%'.format(100 * accuracy))\n",
    "    print('適合率（Precision） = {:.3f}%'.format(100 * precision[0]))\n",
    "    print('再現率（Recall） = {:.3f}%'.format(100 * recall[0]))\n",
    "    print('F1値（F1-score） = {:.3f}%'.format(100 * f1_score[0]))\n",
    "    print()\n",
    "    \n",
    "    cross_valid_accuracy += accuracy \n",
    "    cross_valid_precision += precision[0]\n",
    "    cross_valid_recall += recall[0] \n",
    "    cross_valid_f1_score += f1_score[0] \n",
    "    split_num += 1\n",
    "    \n",
    "final_accuracy =  cross_valid_accuracy / n_split\n",
    "final_precision = cross_valid_precision / n_split\n",
    "final_recall = cross_valid_recall / n_split\n",
    "final_f1_score = cross_valid_f1_score / n_split\n",
    "\n",
    "print('正答率（Accuracy） = {:.3f}%'.format(100 * final_accuracy))\n",
    "print('適合率（Precision） = {:.3f}%'.format(100 * final_precision))\n",
    "print('再現率（Recall） = {:.3f}%'.format(100 * final_recall))\n",
    "print('F1値（F1-score） = {:.3f}%'.format(100 * final_f1_score))"
   ]
  },
  {
   "cell_type": "code",
   "execution_count": 300,
   "metadata": {},
   "outputs": [],
   "source": [
    "#決定木\n",
    "from sklearn.tree import DecisionTreeClassifier\n",
    "from sklearn.model_selection import train_test_split, GridSearchCV\n",
    "from sklearn.svm import SVC"
   ]
  },
  {
   "cell_type": "code",
   "execution_count": 301,
   "metadata": {},
   "outputs": [],
   "source": [
    "y = df_ks[\"state\"].values\n",
    "y = y.astype('int')\n",
    "X = df_ks.drop(\"state\", axis = 1).values"
   ]
  },
  {
   "cell_type": "code",
   "execution_count": 302,
   "metadata": {},
   "outputs": [
    {
     "data": {
      "text/html": [
       "<div>\n",
       "<style scoped>\n",
       "    .dataframe tbody tr th:only-of-type {\n",
       "        vertical-align: middle;\n",
       "    }\n",
       "\n",
       "    .dataframe tbody tr th {\n",
       "        vertical-align: top;\n",
       "    }\n",
       "\n",
       "    .dataframe thead th {\n",
       "        text-align: right;\n",
       "    }\n",
       "</style>\n",
       "<table border=\"1\" class=\"dataframe\">\n",
       "  <thead>\n",
       "    <tr style=\"text-align: right;\">\n",
       "      <th></th>\n",
       "      <th>main_category</th>\n",
       "      <th>currency</th>\n",
       "      <th>goal</th>\n",
       "      <th>state</th>\n",
       "      <th>backers</th>\n",
       "      <th>country</th>\n",
       "      <th>usd_goal_real</th>\n",
       "      <th>days</th>\n",
       "    </tr>\n",
       "  </thead>\n",
       "  <tbody>\n",
       "    <tr>\n",
       "      <th>0</th>\n",
       "      <td>2</td>\n",
       "      <td>1</td>\n",
       "      <td>1000.0</td>\n",
       "      <td>0</td>\n",
       "      <td>0</td>\n",
       "      <td>1</td>\n",
       "      <td>1533.95</td>\n",
       "      <td>58</td>\n",
       "    </tr>\n",
       "    <tr>\n",
       "      <th>1</th>\n",
       "      <td>0</td>\n",
       "      <td>0</td>\n",
       "      <td>30000.0</td>\n",
       "      <td>0</td>\n",
       "      <td>15</td>\n",
       "      <td>0</td>\n",
       "      <td>30000.00</td>\n",
       "      <td>59</td>\n",
       "    </tr>\n",
       "    <tr>\n",
       "      <th>2</th>\n",
       "      <td>0</td>\n",
       "      <td>0</td>\n",
       "      <td>45000.0</td>\n",
       "      <td>0</td>\n",
       "      <td>3</td>\n",
       "      <td>0</td>\n",
       "      <td>45000.00</td>\n",
       "      <td>44</td>\n",
       "    </tr>\n",
       "    <tr>\n",
       "      <th>3</th>\n",
       "      <td>1</td>\n",
       "      <td>0</td>\n",
       "      <td>5000.0</td>\n",
       "      <td>0</td>\n",
       "      <td>1</td>\n",
       "      <td>0</td>\n",
       "      <td>5000.00</td>\n",
       "      <td>29</td>\n",
       "    </tr>\n",
       "    <tr>\n",
       "      <th>5</th>\n",
       "      <td>7</td>\n",
       "      <td>0</td>\n",
       "      <td>50000.0</td>\n",
       "      <td>1</td>\n",
       "      <td>224</td>\n",
       "      <td>0</td>\n",
       "      <td>50000.00</td>\n",
       "      <td>34</td>\n",
       "    </tr>\n",
       "    <tr>\n",
       "      <th>...</th>\n",
       "      <td>...</td>\n",
       "      <td>...</td>\n",
       "      <td>...</td>\n",
       "      <td>...</td>\n",
       "      <td>...</td>\n",
       "      <td>...</td>\n",
       "      <td>...</td>\n",
       "      <td>...</td>\n",
       "    </tr>\n",
       "    <tr>\n",
       "      <th>378654</th>\n",
       "      <td>7</td>\n",
       "      <td>0</td>\n",
       "      <td>6500.0</td>\n",
       "      <td>0</td>\n",
       "      <td>4</td>\n",
       "      <td>0</td>\n",
       "      <td>6500.00</td>\n",
       "      <td>29</td>\n",
       "    </tr>\n",
       "    <tr>\n",
       "      <th>378657</th>\n",
       "      <td>0</td>\n",
       "      <td>0</td>\n",
       "      <td>1500.0</td>\n",
       "      <td>0</td>\n",
       "      <td>5</td>\n",
       "      <td>0</td>\n",
       "      <td>1500.00</td>\n",
       "      <td>26</td>\n",
       "    </tr>\n",
       "    <tr>\n",
       "      <th>378658</th>\n",
       "      <td>0</td>\n",
       "      <td>0</td>\n",
       "      <td>15000.0</td>\n",
       "      <td>0</td>\n",
       "      <td>1</td>\n",
       "      <td>0</td>\n",
       "      <td>15000.00</td>\n",
       "      <td>45</td>\n",
       "    </tr>\n",
       "    <tr>\n",
       "      <th>378659</th>\n",
       "      <td>4</td>\n",
       "      <td>0</td>\n",
       "      <td>15000.0</td>\n",
       "      <td>0</td>\n",
       "      <td>6</td>\n",
       "      <td>0</td>\n",
       "      <td>15000.00</td>\n",
       "      <td>30</td>\n",
       "    </tr>\n",
       "    <tr>\n",
       "      <th>378660</th>\n",
       "      <td>5</td>\n",
       "      <td>0</td>\n",
       "      <td>2000.0</td>\n",
       "      <td>0</td>\n",
       "      <td>17</td>\n",
       "      <td>0</td>\n",
       "      <td>2000.00</td>\n",
       "      <td>27</td>\n",
       "    </tr>\n",
       "  </tbody>\n",
       "</table>\n",
       "<p>331675 rows × 8 columns</p>\n",
       "</div>"
      ],
      "text/plain": [
       "       main_category currency     goal state  backers country  usd_goal_real  \\\n",
       "0                  2        1   1000.0     0        0       1        1533.95   \n",
       "1                  0        0  30000.0     0       15       0       30000.00   \n",
       "2                  0        0  45000.0     0        3       0       45000.00   \n",
       "3                  1        0   5000.0     0        1       0        5000.00   \n",
       "5                  7        0  50000.0     1      224       0       50000.00   \n",
       "...              ...      ...      ...   ...      ...     ...            ...   \n",
       "378654             7        0   6500.0     0        4       0        6500.00   \n",
       "378657             0        0   1500.0     0        5       0        1500.00   \n",
       "378658             0        0  15000.0     0        1       0       15000.00   \n",
       "378659             4        0  15000.0     0        6       0       15000.00   \n",
       "378660             5        0   2000.0     0       17       0        2000.00   \n",
       "\n",
       "        days  \n",
       "0         58  \n",
       "1         59  \n",
       "2         44  \n",
       "3         29  \n",
       "5         34  \n",
       "...      ...  \n",
       "378654    29  \n",
       "378657    26  \n",
       "378658    45  \n",
       "378659    30  \n",
       "378660    27  \n",
       "\n",
       "[331675 rows x 8 columns]"
      ]
     },
     "metadata": {},
     "output_type": "display_data"
    }
   ],
   "source": [
    "display(df_ks)"
   ]
  },
  {
   "cell_type": "code",
   "execution_count": 303,
   "metadata": {},
   "outputs": [
    {
     "name": "stdout",
     "output_type": "stream",
     "text": [
      "X_train = (265340, 7)\n",
      "y_train = (265340,)\n",
      "X_test (66335, 7)\n",
      "y_test (66335,)\n"
     ]
    }
   ],
   "source": [
    "test_size = 0.2\n",
    "X_train, X_test, y_train, y_test = train_test_split(X, y, test_size=test_size, random_state=1234)\n",
    "print(\"X_train =\",X_train.shape)\n",
    "print(\"y_train =\",y_train.shape)\n",
    "print(\"X_test\",X_test.shape)\n",
    "print(\"y_test\",y_test.shape)"
   ]
  },
  {
   "cell_type": "code",
   "execution_count": 304,
   "metadata": {},
   "outputs": [],
   "source": [
    "clf = DecisionTreeClassifier(criterion=\"gini\", max_depth=2, min_samples_split=3, min_samples_leaf=3, random_state=1234)\n",
    "clf = clf.fit(X_train, y_train)"
   ]
  },
  {
   "cell_type": "code",
   "execution_count": 305,
   "metadata": {},
   "outputs": [],
   "source": [
    "#訓練データに対する予測を実行\n",
    "y_pred_train = clf.predict(X_train)"
   ]
  },
  {
   "cell_type": "code",
   "execution_count": 306,
   "metadata": {},
   "outputs": [
    {
     "name": "stdout",
     "output_type": "stream",
     "text": [
      "正答率（Accuracy） = 84.137%\n",
      "適合率（Precision） = 91.619%\n",
      "再現率（Recall） = 80.744%\n",
      "F1値（F1-score） = 85.839%\n"
     ]
    }
   ],
   "source": [
    "#訓練データに対するaccuracy, precision, recall, f1を計算 \n",
    "accuracy =  accuracy_score(y_train, y_pred_train)\n",
    "print('正答率（Accuracy） = {:.3f}%'.format(100 * accuracy))\n",
    "\n",
    "precision, recall, f1_score, _ = precision_recall_fscore_support(y_train, y_pred_train)\n",
    "\n",
    "print('適合率（Precision） = {:.3f}%'.format(100 * precision[0]))\n",
    "print('再現率（Recall） = {:.3f}%'.format(100 * recall[0]))\n",
    "print('F1値（F1-score） = {:.3f}%'.format(100 * f1_score[0]))"
   ]
  },
  {
   "cell_type": "code",
   "execution_count": 307,
   "metadata": {},
   "outputs": [],
   "source": [
    "#テストデータに対する予測を実行\n",
    "y_pred_test = clf.predict(X_test)"
   ]
  },
  {
   "cell_type": "code",
   "execution_count": 308,
   "metadata": {},
   "outputs": [
    {
     "name": "stdout",
     "output_type": "stream",
     "text": [
      "正答率（Accuracy） = 84.118%\n",
      "適合率（Precision） = 91.791%\n",
      "再現率（Recall） = 80.699%\n",
      "F1値（F1-score） = 85.888%\n"
     ]
    }
   ],
   "source": [
    "#テストデータに対するaccuracy, precision, recall, f1を計算 \n",
    "accuracy =  accuracy_score(y_test, y_pred_test)\n",
    "print('正答率（Accuracy） = {:.3f}%'.format(100 * accuracy))\n",
    "\n",
    "precision, recall, f1_score, _ = precision_recall_fscore_support(y_test, y_pred_test)\n",
    "\n",
    "print('適合率（Precision） = {:.3f}%'.format(100 * precision[0]))\n",
    "print('再現率（Recall） = {:.3f}%'.format(100 * recall[0]))\n",
    "print('F1値（F1-score） = {:.3f}%'.format(100 * f1_score[0]))"
   ]
  },
  {
   "cell_type": "code",
   "execution_count": 309,
   "metadata": {},
   "outputs": [
    {
     "name": "stdout",
     "output_type": "stream",
     "text": [
      "[0.        0.        0.        0.8659877 0.        0.1340123 0.       ]\n"
     ]
    },
    {
     "data": {
      "image/png": "[encoded data removed]",
      "text/plain": [
       "<Figure size 504x144 with 1 Axes>"
      ]
     },
     "metadata": {
      "needs_background": "light"
     },
     "output_type": "display_data"
    }
   ],
   "source": [
    "#重要な説明変数を調べる\n",
    "print(clf.feature_importances_)\n",
    "pd.DataFrame(clf.feature_importances_, index=[\"main_category\",\"currency\", \"goal\", \"backers\", \"country\", \"usd_goal_real\", \"days\"]).plot.bar(figsize=(7,2))\n",
    "plt.ylabel(\"Importance\")\n",
    "plt.xlabel(\"Features\")\n",
    "plt.show()"
   ]
  },
  {
   "cell_type": "code",
   "execution_count": 310,
   "metadata": {},
   "outputs": [],
   "source": [
    "#決定木についてパラメータチューニング(交差探索法)"
   ]
  },
  {
   "cell_type": "code",
   "execution_count": 311,
   "metadata": {},
   "outputs": [
    {
     "name": "stderr",
     "output_type": "stream",
     "text": [
      "C:\\Users\\koji0\\anaconda3\\lib\\site-packages\\sklearn\\model_selection\\_validation.py:548: FitFailedWarning: Estimator fit failed. The score on this train-test partition for these parameters will be set to nan. Details: \n",
      "Traceback (most recent call last):\n",
      "  File \"C:\\Users\\koji0\\anaconda3\\lib\\site-packages\\sklearn\\model_selection\\_validation.py\", line 531, in _fit_and_score\n",
      "    estimator.fit(X_train, y_train, **fit_params)\n",
      "  File \"C:\\Users\\koji0\\anaconda3\\lib\\site-packages\\sklearn\\tree\\_classes.py\", line 890, in fit\n",
      "    super().fit(\n",
      "  File \"C:\\Users\\koji0\\anaconda3\\lib\\site-packages\\sklearn\\tree\\_classes.py\", line 228, in fit\n",
      "    raise ValueError(\"min_samples_split must be an integer \"\n",
      "ValueError: min_samples_split must be an integer greater than 1 or a float in (0.0, 1.0]; got the integer 1\n",
      "\n",
      "  warnings.warn(\"Estimator fit failed. The score on this train-test\"\n",
      "C:\\Users\\koji0\\anaconda3\\lib\\site-packages\\sklearn\\model_selection\\_validation.py:548: FitFailedWarning: Estimator fit failed. The score on this train-test partition for these parameters will be set to nan. Details: \n",
      "Traceback (most recent call last):\n",
      "  File \"C:\\Users\\koji0\\anaconda3\\lib\\site-packages\\sklearn\\model_selection\\_validation.py\", line 531, in _fit_and_score\n",
      "    estimator.fit(X_train, y_train, **fit_params)\n",
      "  File \"C:\\Users\\koji0\\anaconda3\\lib\\site-packages\\sklearn\\tree\\_classes.py\", line 890, in fit\n",
      "    super().fit(\n",
      "  File \"C:\\Users\\koji0\\anaconda3\\lib\\site-packages\\sklearn\\tree\\_classes.py\", line 228, in fit\n",
      "    raise ValueError(\"min_samples_split must be an integer \"\n",
      "ValueError: min_samples_split must be an integer greater than 1 or a float in (0.0, 1.0]; got the integer 1\n",
      "\n",
      "  warnings.warn(\"Estimator fit failed. The score on this train-test\"\n",
      "C:\\Users\\koji0\\anaconda3\\lib\\site-packages\\sklearn\\model_selection\\_validation.py:548: FitFailedWarning: Estimator fit failed. The score on this train-test partition for these parameters will be set to nan. Details: \n",
      "Traceback (most recent call last):\n",
      "  File \"C:\\Users\\koji0\\anaconda3\\lib\\site-packages\\sklearn\\model_selection\\_validation.py\", line 531, in _fit_and_score\n",
      "    estimator.fit(X_train, y_train, **fit_params)\n",
      "  File \"C:\\Users\\koji0\\anaconda3\\lib\\site-packages\\sklearn\\tree\\_classes.py\", line 890, in fit\n",
      "    super().fit(\n",
      "  File \"C:\\Users\\koji0\\anaconda3\\lib\\site-packages\\sklearn\\tree\\_classes.py\", line 228, in fit\n",
      "    raise ValueError(\"min_samples_split must be an integer \"\n",
      "ValueError: min_samples_split must be an integer greater than 1 or a float in (0.0, 1.0]; got the integer 1\n",
      "\n",
      "  warnings.warn(\"Estimator fit failed. The score on this train-test\"\n",
      "C:\\Users\\koji0\\anaconda3\\lib\\site-packages\\sklearn\\model_selection\\_validation.py:548: FitFailedWarning: Estimator fit failed. The score on this train-test partition for these parameters will be set to nan. Details: \n",
      "Traceback (most recent call last):\n",
      "  File \"C:\\Users\\koji0\\anaconda3\\lib\\site-packages\\sklearn\\model_selection\\_validation.py\", line 531, in _fit_and_score\n",
      "    estimator.fit(X_train, y_train, **fit_params)\n",
      "  File \"C:\\Users\\koji0\\anaconda3\\lib\\site-packages\\sklearn\\tree\\_classes.py\", line 890, in fit\n",
      "    super().fit(\n",
      "  File \"C:\\Users\\koji0\\anaconda3\\lib\\site-packages\\sklearn\\tree\\_classes.py\", line 228, in fit\n",
      "    raise ValueError(\"min_samples_split must be an integer \"\n",
      "ValueError: min_samples_split must be an integer greater than 1 or a float in (0.0, 1.0]; got the integer 1\n",
      "\n",
      "  warnings.warn(\"Estimator fit failed. The score on this train-test\"\n",
      "C:\\Users\\koji0\\anaconda3\\lib\\site-packages\\sklearn\\model_selection\\_validation.py:548: FitFailedWarning: Estimator fit failed. The score on this train-test partition for these parameters will be set to nan. Details: \n",
      "Traceback (most recent call last):\n",
      "  File \"C:\\Users\\koji0\\anaconda3\\lib\\site-packages\\sklearn\\model_selection\\_validation.py\", line 531, in _fit_and_score\n",
      "    estimator.fit(X_train, y_train, **fit_params)\n",
      "  File \"C:\\Users\\koji0\\anaconda3\\lib\\site-packages\\sklearn\\tree\\_classes.py\", line 890, in fit\n",
      "    super().fit(\n",
      "  File \"C:\\Users\\koji0\\anaconda3\\lib\\site-packages\\sklearn\\tree\\_classes.py\", line 228, in fit\n",
      "    raise ValueError(\"min_samples_split must be an integer \"\n",
      "ValueError: min_samples_split must be an integer greater than 1 or a float in (0.0, 1.0]; got the integer 1\n",
      "\n",
      "  warnings.warn(\"Estimator fit failed. The score on this train-test\"\n",
      "C:\\Users\\koji0\\anaconda3\\lib\\site-packages\\sklearn\\model_selection\\_validation.py:548: FitFailedWarning: Estimator fit failed. The score on this train-test partition for these parameters will be set to nan. Details: \n",
      "Traceback (most recent call last):\n",
      "  File \"C:\\Users\\koji0\\anaconda3\\lib\\site-packages\\sklearn\\model_selection\\_validation.py\", line 531, in _fit_and_score\n",
      "    estimator.fit(X_train, y_train, **fit_params)\n",
      "  File \"C:\\Users\\koji0\\anaconda3\\lib\\site-packages\\sklearn\\tree\\_classes.py\", line 890, in fit\n",
      "    super().fit(\n",
      "  File \"C:\\Users\\koji0\\anaconda3\\lib\\site-packages\\sklearn\\tree\\_classes.py\", line 228, in fit\n",
      "    raise ValueError(\"min_samples_split must be an integer \"\n",
      "ValueError: min_samples_split must be an integer greater than 1 or a float in (0.0, 1.0]; got the integer 1\n",
      "\n",
      "  warnings.warn(\"Estimator fit failed. The score on this train-test\"\n",
      "C:\\Users\\koji0\\anaconda3\\lib\\site-packages\\sklearn\\model_selection\\_validation.py:548: FitFailedWarning: Estimator fit failed. The score on this train-test partition for these parameters will be set to nan. Details: \n",
      "Traceback (most recent call last):\n",
      "  File \"C:\\Users\\koji0\\anaconda3\\lib\\site-packages\\sklearn\\model_selection\\_validation.py\", line 531, in _fit_and_score\n",
      "    estimator.fit(X_train, y_train, **fit_params)\n",
      "  File \"C:\\Users\\koji0\\anaconda3\\lib\\site-packages\\sklearn\\tree\\_classes.py\", line 890, in fit\n",
      "    super().fit(\n",
      "  File \"C:\\Users\\koji0\\anaconda3\\lib\\site-packages\\sklearn\\tree\\_classes.py\", line 228, in fit\n",
      "    raise ValueError(\"min_samples_split must be an integer \"\n",
      "ValueError: min_samples_split must be an integer greater than 1 or a float in (0.0, 1.0]; got the integer 1\n",
      "\n",
      "  warnings.warn(\"Estimator fit failed. The score on this train-test\"\n",
      "C:\\Users\\koji0\\anaconda3\\lib\\site-packages\\sklearn\\model_selection\\_validation.py:548: FitFailedWarning: Estimator fit failed. The score on this train-test partition for these parameters will be set to nan. Details: \n",
      "Traceback (most recent call last):\n",
      "  File \"C:\\Users\\koji0\\anaconda3\\lib\\site-packages\\sklearn\\model_selection\\_validation.py\", line 531, in _fit_and_score\n",
      "    estimator.fit(X_train, y_train, **fit_params)\n",
      "  File \"C:\\Users\\koji0\\anaconda3\\lib\\site-packages\\sklearn\\tree\\_classes.py\", line 890, in fit\n",
      "    super().fit(\n",
      "  File \"C:\\Users\\koji0\\anaconda3\\lib\\site-packages\\sklearn\\tree\\_classes.py\", line 228, in fit\n",
      "    raise ValueError(\"min_samples_split must be an integer \"\n",
      "ValueError: min_samples_split must be an integer greater than 1 or a float in (0.0, 1.0]; got the integer 1\n",
      "\n",
      "  warnings.warn(\"Estimator fit failed. The score on this train-test\"\n",
      "C:\\Users\\koji0\\anaconda3\\lib\\site-packages\\sklearn\\model_selection\\_validation.py:548: FitFailedWarning: Estimator fit failed. The score on this train-test partition for these parameters will be set to nan. Details: \n",
      "Traceback (most recent call last):\n",
      "  File \"C:\\Users\\koji0\\anaconda3\\lib\\site-packages\\sklearn\\model_selection\\_validation.py\", line 531, in _fit_and_score\n",
      "    estimator.fit(X_train, y_train, **fit_params)\n",
      "  File \"C:\\Users\\koji0\\anaconda3\\lib\\site-packages\\sklearn\\tree\\_classes.py\", line 890, in fit\n",
      "    super().fit(\n",
      "  File \"C:\\Users\\koji0\\anaconda3\\lib\\site-packages\\sklearn\\tree\\_classes.py\", line 228, in fit\n",
      "    raise ValueError(\"min_samples_split must be an integer \"\n",
      "ValueError: min_samples_split must be an integer greater than 1 or a float in (0.0, 1.0]; got the integer 1\n",
      "\n",
      "  warnings.warn(\"Estimator fit failed. The score on this train-test\"\n",
      "C:\\Users\\koji0\\anaconda3\\lib\\site-packages\\sklearn\\model_selection\\_validation.py:548: FitFailedWarning: Estimator fit failed. The score on this train-test partition for these parameters will be set to nan. Details: \n",
      "Traceback (most recent call last):\n",
      "  File \"C:\\Users\\koji0\\anaconda3\\lib\\site-packages\\sklearn\\model_selection\\_validation.py\", line 531, in _fit_and_score\n",
      "    estimator.fit(X_train, y_train, **fit_params)\n",
      "  File \"C:\\Users\\koji0\\anaconda3\\lib\\site-packages\\sklearn\\tree\\_classes.py\", line 890, in fit\n",
      "    super().fit(\n",
      "  File \"C:\\Users\\koji0\\anaconda3\\lib\\site-packages\\sklearn\\tree\\_classes.py\", line 228, in fit\n",
      "    raise ValueError(\"min_samples_split must be an integer \"\n",
      "ValueError: min_samples_split must be an integer greater than 1 or a float in (0.0, 1.0]; got the integer 1\n",
      "\n",
      "  warnings.warn(\"Estimator fit failed. The score on this train-test\"\n",
      "C:\\Users\\koji0\\anaconda3\\lib\\site-packages\\sklearn\\model_selection\\_validation.py:548: FitFailedWarning: Estimator fit failed. The score on this train-test partition for these parameters will be set to nan. Details: \n",
      "Traceback (most recent call last):\n",
      "  File \"C:\\Users\\koji0\\anaconda3\\lib\\site-packages\\sklearn\\model_selection\\_validation.py\", line 531, in _fit_and_score\n",
      "    estimator.fit(X_train, y_train, **fit_params)\n",
      "  File \"C:\\Users\\koji0\\anaconda3\\lib\\site-packages\\sklearn\\tree\\_classes.py\", line 890, in fit\n",
      "    super().fit(\n",
      "  File \"C:\\Users\\koji0\\anaconda3\\lib\\site-packages\\sklearn\\tree\\_classes.py\", line 228, in fit\n",
      "    raise ValueError(\"min_samples_split must be an integer \"\n",
      "ValueError: min_samples_split must be an integer greater than 1 or a float in (0.0, 1.0]; got the integer 1\n",
      "\n",
      "  warnings.warn(\"Estimator fit failed. The score on this train-test\"\n"
     ]
    },
    {
     "name": "stderr",
     "output_type": "stream",
     "text": [
      "C:\\Users\\koji0\\anaconda3\\lib\\site-packages\\sklearn\\model_selection\\_validation.py:548: FitFailedWarning: Estimator fit failed. The score on this train-test partition for these parameters will be set to nan. Details: \n",
      "Traceback (most recent call last):\n",
      "  File \"C:\\Users\\koji0\\anaconda3\\lib\\site-packages\\sklearn\\model_selection\\_validation.py\", line 531, in _fit_and_score\n",
      "    estimator.fit(X_train, y_train, **fit_params)\n",
      "  File \"C:\\Users\\koji0\\anaconda3\\lib\\site-packages\\sklearn\\tree\\_classes.py\", line 890, in fit\n",
      "    super().fit(\n",
      "  File \"C:\\Users\\koji0\\anaconda3\\lib\\site-packages\\sklearn\\tree\\_classes.py\", line 228, in fit\n",
      "    raise ValueError(\"min_samples_split must be an integer \"\n",
      "ValueError: min_samples_split must be an integer greater than 1 or a float in (0.0, 1.0]; got the integer 1\n",
      "\n",
      "  warnings.warn(\"Estimator fit failed. The score on this train-test\"\n",
      "C:\\Users\\koji0\\anaconda3\\lib\\site-packages\\sklearn\\model_selection\\_validation.py:548: FitFailedWarning: Estimator fit failed. The score on this train-test partition for these parameters will be set to nan. Details: \n",
      "Traceback (most recent call last):\n",
      "  File \"C:\\Users\\koji0\\anaconda3\\lib\\site-packages\\sklearn\\model_selection\\_validation.py\", line 531, in _fit_and_score\n",
      "    estimator.fit(X_train, y_train, **fit_params)\n",
      "  File \"C:\\Users\\koji0\\anaconda3\\lib\\site-packages\\sklearn\\tree\\_classes.py\", line 890, in fit\n",
      "    super().fit(\n",
      "  File \"C:\\Users\\koji0\\anaconda3\\lib\\site-packages\\sklearn\\tree\\_classes.py\", line 228, in fit\n",
      "    raise ValueError(\"min_samples_split must be an integer \"\n",
      "ValueError: min_samples_split must be an integer greater than 1 or a float in (0.0, 1.0]; got the integer 1\n",
      "\n",
      "  warnings.warn(\"Estimator fit failed. The score on this train-test\"\n",
      "C:\\Users\\koji0\\anaconda3\\lib\\site-packages\\sklearn\\model_selection\\_validation.py:548: FitFailedWarning: Estimator fit failed. The score on this train-test partition for these parameters will be set to nan. Details: \n",
      "Traceback (most recent call last):\n",
      "  File \"C:\\Users\\koji0\\anaconda3\\lib\\site-packages\\sklearn\\model_selection\\_validation.py\", line 531, in _fit_and_score\n",
      "    estimator.fit(X_train, y_train, **fit_params)\n",
      "  File \"C:\\Users\\koji0\\anaconda3\\lib\\site-packages\\sklearn\\tree\\_classes.py\", line 890, in fit\n",
      "    super().fit(\n",
      "  File \"C:\\Users\\koji0\\anaconda3\\lib\\site-packages\\sklearn\\tree\\_classes.py\", line 228, in fit\n",
      "    raise ValueError(\"min_samples_split must be an integer \"\n",
      "ValueError: min_samples_split must be an integer greater than 1 or a float in (0.0, 1.0]; got the integer 1\n",
      "\n",
      "  warnings.warn(\"Estimator fit failed. The score on this train-test\"\n",
      "C:\\Users\\koji0\\anaconda3\\lib\\site-packages\\sklearn\\model_selection\\_validation.py:548: FitFailedWarning: Estimator fit failed. The score on this train-test partition for these parameters will be set to nan. Details: \n",
      "Traceback (most recent call last):\n",
      "  File \"C:\\Users\\koji0\\anaconda3\\lib\\site-packages\\sklearn\\model_selection\\_validation.py\", line 531, in _fit_and_score\n",
      "    estimator.fit(X_train, y_train, **fit_params)\n",
      "  File \"C:\\Users\\koji0\\anaconda3\\lib\\site-packages\\sklearn\\tree\\_classes.py\", line 890, in fit\n",
      "    super().fit(\n",
      "  File \"C:\\Users\\koji0\\anaconda3\\lib\\site-packages\\sklearn\\tree\\_classes.py\", line 228, in fit\n",
      "    raise ValueError(\"min_samples_split must be an integer \"\n",
      "ValueError: min_samples_split must be an integer greater than 1 or a float in (0.0, 1.0]; got the integer 1\n",
      "\n",
      "  warnings.warn(\"Estimator fit failed. The score on this train-test\"\n",
      "C:\\Users\\koji0\\anaconda3\\lib\\site-packages\\sklearn\\model_selection\\_validation.py:548: FitFailedWarning: Estimator fit failed. The score on this train-test partition for these parameters will be set to nan. Details: \n",
      "Traceback (most recent call last):\n",
      "  File \"C:\\Users\\koji0\\anaconda3\\lib\\site-packages\\sklearn\\model_selection\\_validation.py\", line 531, in _fit_and_score\n",
      "    estimator.fit(X_train, y_train, **fit_params)\n",
      "  File \"C:\\Users\\koji0\\anaconda3\\lib\\site-packages\\sklearn\\tree\\_classes.py\", line 890, in fit\n",
      "    super().fit(\n",
      "  File \"C:\\Users\\koji0\\anaconda3\\lib\\site-packages\\sklearn\\tree\\_classes.py\", line 228, in fit\n",
      "    raise ValueError(\"min_samples_split must be an integer \"\n",
      "ValueError: min_samples_split must be an integer greater than 1 or a float in (0.0, 1.0]; got the integer 1\n",
      "\n",
      "  warnings.warn(\"Estimator fit failed. The score on this train-test\"\n",
      "C:\\Users\\koji0\\anaconda3\\lib\\site-packages\\sklearn\\model_selection\\_validation.py:548: FitFailedWarning: Estimator fit failed. The score on this train-test partition for these parameters will be set to nan. Details: \n",
      "Traceback (most recent call last):\n",
      "  File \"C:\\Users\\koji0\\anaconda3\\lib\\site-packages\\sklearn\\model_selection\\_validation.py\", line 531, in _fit_and_score\n",
      "    estimator.fit(X_train, y_train, **fit_params)\n",
      "  File \"C:\\Users\\koji0\\anaconda3\\lib\\site-packages\\sklearn\\tree\\_classes.py\", line 890, in fit\n",
      "    super().fit(\n",
      "  File \"C:\\Users\\koji0\\anaconda3\\lib\\site-packages\\sklearn\\tree\\_classes.py\", line 228, in fit\n",
      "    raise ValueError(\"min_samples_split must be an integer \"\n",
      "ValueError: min_samples_split must be an integer greater than 1 or a float in (0.0, 1.0]; got the integer 1\n",
      "\n",
      "  warnings.warn(\"Estimator fit failed. The score on this train-test\"\n",
      "C:\\Users\\koji0\\anaconda3\\lib\\site-packages\\sklearn\\model_selection\\_validation.py:548: FitFailedWarning: Estimator fit failed. The score on this train-test partition for these parameters will be set to nan. Details: \n",
      "Traceback (most recent call last):\n",
      "  File \"C:\\Users\\koji0\\anaconda3\\lib\\site-packages\\sklearn\\model_selection\\_validation.py\", line 531, in _fit_and_score\n",
      "    estimator.fit(X_train, y_train, **fit_params)\n",
      "  File \"C:\\Users\\koji0\\anaconda3\\lib\\site-packages\\sklearn\\tree\\_classes.py\", line 890, in fit\n",
      "    super().fit(\n",
      "  File \"C:\\Users\\koji0\\anaconda3\\lib\\site-packages\\sklearn\\tree\\_classes.py\", line 228, in fit\n",
      "    raise ValueError(\"min_samples_split must be an integer \"\n",
      "ValueError: min_samples_split must be an integer greater than 1 or a float in (0.0, 1.0]; got the integer 1\n",
      "\n",
      "  warnings.warn(\"Estimator fit failed. The score on this train-test\"\n",
      "C:\\Users\\koji0\\anaconda3\\lib\\site-packages\\sklearn\\model_selection\\_validation.py:548: FitFailedWarning: Estimator fit failed. The score on this train-test partition for these parameters will be set to nan. Details: \n",
      "Traceback (most recent call last):\n",
      "  File \"C:\\Users\\koji0\\anaconda3\\lib\\site-packages\\sklearn\\model_selection\\_validation.py\", line 531, in _fit_and_score\n",
      "    estimator.fit(X_train, y_train, **fit_params)\n",
      "  File \"C:\\Users\\koji0\\anaconda3\\lib\\site-packages\\sklearn\\tree\\_classes.py\", line 890, in fit\n",
      "    super().fit(\n",
      "  File \"C:\\Users\\koji0\\anaconda3\\lib\\site-packages\\sklearn\\tree\\_classes.py\", line 228, in fit\n",
      "    raise ValueError(\"min_samples_split must be an integer \"\n",
      "ValueError: min_samples_split must be an integer greater than 1 or a float in (0.0, 1.0]; got the integer 1\n",
      "\n",
      "  warnings.warn(\"Estimator fit failed. The score on this train-test\"\n",
      "C:\\Users\\koji0\\anaconda3\\lib\\site-packages\\sklearn\\model_selection\\_validation.py:548: FitFailedWarning: Estimator fit failed. The score on this train-test partition for these parameters will be set to nan. Details: \n",
      "Traceback (most recent call last):\n",
      "  File \"C:\\Users\\koji0\\anaconda3\\lib\\site-packages\\sklearn\\model_selection\\_validation.py\", line 531, in _fit_and_score\n",
      "    estimator.fit(X_train, y_train, **fit_params)\n",
      "  File \"C:\\Users\\koji0\\anaconda3\\lib\\site-packages\\sklearn\\tree\\_classes.py\", line 890, in fit\n",
      "    super().fit(\n",
      "  File \"C:\\Users\\koji0\\anaconda3\\lib\\site-packages\\sklearn\\tree\\_classes.py\", line 228, in fit\n",
      "    raise ValueError(\"min_samples_split must be an integer \"\n",
      "ValueError: min_samples_split must be an integer greater than 1 or a float in (0.0, 1.0]; got the integer 1\n",
      "\n",
      "  warnings.warn(\"Estimator fit failed. The score on this train-test\"\n",
      "C:\\Users\\koji0\\anaconda3\\lib\\site-packages\\sklearn\\model_selection\\_validation.py:548: FitFailedWarning: Estimator fit failed. The score on this train-test partition for these parameters will be set to nan. Details: \n",
      "Traceback (most recent call last):\n",
      "  File \"C:\\Users\\koji0\\anaconda3\\lib\\site-packages\\sklearn\\model_selection\\_validation.py\", line 531, in _fit_and_score\n",
      "    estimator.fit(X_train, y_train, **fit_params)\n",
      "  File \"C:\\Users\\koji0\\anaconda3\\lib\\site-packages\\sklearn\\tree\\_classes.py\", line 890, in fit\n",
      "    super().fit(\n",
      "  File \"C:\\Users\\koji0\\anaconda3\\lib\\site-packages\\sklearn\\tree\\_classes.py\", line 228, in fit\n",
      "    raise ValueError(\"min_samples_split must be an integer \"\n",
      "ValueError: min_samples_split must be an integer greater than 1 or a float in (0.0, 1.0]; got the integer 1\n",
      "\n",
      "  warnings.warn(\"Estimator fit failed. The score on this train-test\"\n"
     ]
    },
    {
     "name": "stderr",
     "output_type": "stream",
     "text": [
      "C:\\Users\\koji0\\anaconda3\\lib\\site-packages\\sklearn\\model_selection\\_validation.py:548: FitFailedWarning: Estimator fit failed. The score on this train-test partition for these parameters will be set to nan. Details: \n",
      "Traceback (most recent call last):\n",
      "  File \"C:\\Users\\koji0\\anaconda3\\lib\\site-packages\\sklearn\\model_selection\\_validation.py\", line 531, in _fit_and_score\n",
      "    estimator.fit(X_train, y_train, **fit_params)\n",
      "  File \"C:\\Users\\koji0\\anaconda3\\lib\\site-packages\\sklearn\\tree\\_classes.py\", line 890, in fit\n",
      "    super().fit(\n",
      "  File \"C:\\Users\\koji0\\anaconda3\\lib\\site-packages\\sklearn\\tree\\_classes.py\", line 228, in fit\n",
      "    raise ValueError(\"min_samples_split must be an integer \"\n",
      "ValueError: min_samples_split must be an integer greater than 1 or a float in (0.0, 1.0]; got the integer 1\n",
      "\n",
      "  warnings.warn(\"Estimator fit failed. The score on this train-test\"\n",
      "C:\\Users\\koji0\\anaconda3\\lib\\site-packages\\sklearn\\model_selection\\_validation.py:548: FitFailedWarning: Estimator fit failed. The score on this train-test partition for these parameters will be set to nan. Details: \n",
      "Traceback (most recent call last):\n",
      "  File \"C:\\Users\\koji0\\anaconda3\\lib\\site-packages\\sklearn\\model_selection\\_validation.py\", line 531, in _fit_and_score\n",
      "    estimator.fit(X_train, y_train, **fit_params)\n",
      "  File \"C:\\Users\\koji0\\anaconda3\\lib\\site-packages\\sklearn\\tree\\_classes.py\", line 890, in fit\n",
      "    super().fit(\n",
      "  File \"C:\\Users\\koji0\\anaconda3\\lib\\site-packages\\sklearn\\tree\\_classes.py\", line 228, in fit\n",
      "    raise ValueError(\"min_samples_split must be an integer \"\n",
      "ValueError: min_samples_split must be an integer greater than 1 or a float in (0.0, 1.0]; got the integer 1\n",
      "\n",
      "  warnings.warn(\"Estimator fit failed. The score on this train-test\"\n",
      "C:\\Users\\koji0\\anaconda3\\lib\\site-packages\\sklearn\\model_selection\\_validation.py:548: FitFailedWarning: Estimator fit failed. The score on this train-test partition for these parameters will be set to nan. Details: \n",
      "Traceback (most recent call last):\n",
      "  File \"C:\\Users\\koji0\\anaconda3\\lib\\site-packages\\sklearn\\model_selection\\_validation.py\", line 531, in _fit_and_score\n",
      "    estimator.fit(X_train, y_train, **fit_params)\n",
      "  File \"C:\\Users\\koji0\\anaconda3\\lib\\site-packages\\sklearn\\tree\\_classes.py\", line 890, in fit\n",
      "    super().fit(\n",
      "  File \"C:\\Users\\koji0\\anaconda3\\lib\\site-packages\\sklearn\\tree\\_classes.py\", line 228, in fit\n",
      "    raise ValueError(\"min_samples_split must be an integer \"\n",
      "ValueError: min_samples_split must be an integer greater than 1 or a float in (0.0, 1.0]; got the integer 1\n",
      "\n",
      "  warnings.warn(\"Estimator fit failed. The score on this train-test\"\n",
      "C:\\Users\\koji0\\anaconda3\\lib\\site-packages\\sklearn\\model_selection\\_validation.py:548: FitFailedWarning: Estimator fit failed. The score on this train-test partition for these parameters will be set to nan. Details: \n",
      "Traceback (most recent call last):\n",
      "  File \"C:\\Users\\koji0\\anaconda3\\lib\\site-packages\\sklearn\\model_selection\\_validation.py\", line 531, in _fit_and_score\n",
      "    estimator.fit(X_train, y_train, **fit_params)\n",
      "  File \"C:\\Users\\koji0\\anaconda3\\lib\\site-packages\\sklearn\\tree\\_classes.py\", line 890, in fit\n",
      "    super().fit(\n",
      "  File \"C:\\Users\\koji0\\anaconda3\\lib\\site-packages\\sklearn\\tree\\_classes.py\", line 228, in fit\n",
      "    raise ValueError(\"min_samples_split must be an integer \"\n",
      "ValueError: min_samples_split must be an integer greater than 1 or a float in (0.0, 1.0]; got the integer 1\n",
      "\n",
      "  warnings.warn(\"Estimator fit failed. The score on this train-test\"\n",
      "C:\\Users\\koji0\\anaconda3\\lib\\site-packages\\sklearn\\model_selection\\_validation.py:548: FitFailedWarning: Estimator fit failed. The score on this train-test partition for these parameters will be set to nan. Details: \n",
      "Traceback (most recent call last):\n",
      "  File \"C:\\Users\\koji0\\anaconda3\\lib\\site-packages\\sklearn\\model_selection\\_validation.py\", line 531, in _fit_and_score\n",
      "    estimator.fit(X_train, y_train, **fit_params)\n",
      "  File \"C:\\Users\\koji0\\anaconda3\\lib\\site-packages\\sklearn\\tree\\_classes.py\", line 890, in fit\n",
      "    super().fit(\n",
      "  File \"C:\\Users\\koji0\\anaconda3\\lib\\site-packages\\sklearn\\tree\\_classes.py\", line 228, in fit\n",
      "    raise ValueError(\"min_samples_split must be an integer \"\n",
      "ValueError: min_samples_split must be an integer greater than 1 or a float in (0.0, 1.0]; got the integer 1\n",
      "\n",
      "  warnings.warn(\"Estimator fit failed. The score on this train-test\"\n",
      "C:\\Users\\koji0\\anaconda3\\lib\\site-packages\\sklearn\\model_selection\\_validation.py:548: FitFailedWarning: Estimator fit failed. The score on this train-test partition for these parameters will be set to nan. Details: \n",
      "Traceback (most recent call last):\n",
      "  File \"C:\\Users\\koji0\\anaconda3\\lib\\site-packages\\sklearn\\model_selection\\_validation.py\", line 531, in _fit_and_score\n",
      "    estimator.fit(X_train, y_train, **fit_params)\n",
      "  File \"C:\\Users\\koji0\\anaconda3\\lib\\site-packages\\sklearn\\tree\\_classes.py\", line 890, in fit\n",
      "    super().fit(\n",
      "  File \"C:\\Users\\koji0\\anaconda3\\lib\\site-packages\\sklearn\\tree\\_classes.py\", line 228, in fit\n",
      "    raise ValueError(\"min_samples_split must be an integer \"\n",
      "ValueError: min_samples_split must be an integer greater than 1 or a float in (0.0, 1.0]; got the integer 1\n",
      "\n",
      "  warnings.warn(\"Estimator fit failed. The score on this train-test\"\n"
     ]
    },
    {
     "name": "stdout",
     "output_type": "stream",
     "text": [
      "{'max_depth': 10, 'min_samples_leaf': 10, 'min_samples_split': 5} 0.9271538401406477\n"
     ]
    }
   ],
   "source": [
    "parameters = {\"max_depth\":[1, 5, 10], \"min_samples_leaf\":[1, 5, 10], \"min_samples_split\":[1, 5, 10]}\n",
    "model = DecisionTreeClassifier(criterion=\"gini\", random_state=1234)\n",
    "clf = GridSearchCV(model, parameters, cv=3)\n",
    "clf.fit(X_train, y_train)\n",
    "print(clf.best_params_, clf.best_score_)"
   ]
  },
  {
   "cell_type": "code",
   "execution_count": 312,
   "metadata": {},
   "outputs": [],
   "source": [
    "clf = DecisionTreeClassifier(criterion=\"gini\", max_depth=10, min_samples_split=10, min_samples_leaf=5, random_state=1234)\n",
    "clf = clf.fit(X_train, y_train)"
   ]
  },
  {
   "cell_type": "code",
   "execution_count": 313,
   "metadata": {},
   "outputs": [],
   "source": [
    "#訓練データに対する予測を実行\n",
    "y_pred_train = clf.predict(X_train)"
   ]
  },
  {
   "cell_type": "code",
   "execution_count": 314,
   "metadata": {},
   "outputs": [
    {
     "name": "stdout",
     "output_type": "stream",
     "text": [
      "正答率（Accuracy） = 93.344%\n",
      "適合率（Precision） = 94.873%\n",
      "再現率（Recall） = 93.896%\n",
      "F1値（F1-score） = 94.382%\n"
     ]
    }
   ],
   "source": [
    "#訓練データに対するaccuracy, precision, recall, f1を計算 \n",
    "accuracy =  accuracy_score(y_train, y_pred_train)\n",
    "print('正答率（Accuracy） = {:.3f}%'.format(100 * accuracy))\n",
    "\n",
    "precision, recall, f1_score, _ = precision_recall_fscore_support(y_train, y_pred_train)\n",
    "\n",
    "print('適合率（Precision） = {:.3f}%'.format(100 * precision[0]))\n",
    "print('再現率（Recall） = {:.3f}%'.format(100 * recall[0]))\n",
    "print('F1値（F1-score） = {:.3f}%'.format(100 * f1_score[0]))"
   ]
  },
  {
   "cell_type": "code",
   "execution_count": 315,
   "metadata": {},
   "outputs": [],
   "source": [
    "#テストデータに対する予測を実行\n",
    "y_pred_test = clf.predict(X_test)"
   ]
  },
  {
   "cell_type": "code",
   "execution_count": 316,
   "metadata": {},
   "outputs": [
    {
     "name": "stdout",
     "output_type": "stream",
     "text": [
      "正答率（Accuracy） = 92.862%\n",
      "適合率（Precision） = 94.580%\n",
      "再現率（Recall） = 93.435%\n",
      "F1値（F1-score） = 94.004%\n"
     ]
    }
   ],
   "source": [
    "#テストデータに対するaccuracy, precision, recall, f1を計算 \n",
    "accuracy =  accuracy_score(y_test, y_pred_test)\n",
    "print('正答率（Accuracy） = {:.3f}%'.format(100 * accuracy))\n",
    "\n",
    "precision, recall, f1_score, _ = precision_recall_fscore_support(y_test, y_pred_test)\n",
    "\n",
    "print('適合率（Precision） = {:.3f}%'.format(100 * precision[0]))\n",
    "print('再現率（Recall） = {:.3f}%'.format(100 * recall[0]))\n",
    "print('F1値（F1-score） = {:.3f}%'.format(100 * f1_score[0]))"
   ]
  },
  {
   "cell_type": "code",
   "execution_count": 317,
   "metadata": {},
   "outputs": [],
   "source": [
    "#パラメータチューニング後で、評価指標が大幅に向上した"
   ]
  },
  {
   "cell_type": "code",
   "execution_count": 318,
   "metadata": {},
   "outputs": [],
   "source": [
    "#ランダムフォレスト・アダブーストでも精度を出してみる"
   ]
  },
  {
   "cell_type": "code",
   "execution_count": 319,
   "metadata": {},
   "outputs": [],
   "source": [
    "#ランダムフォレスト"
   ]
  },
  {
   "cell_type": "code",
   "execution_count": 320,
   "metadata": {},
   "outputs": [],
   "source": [
    "from sklearn.ensemble import RandomForestClassifier"
   ]
  },
  {
   "cell_type": "code",
   "execution_count": 321,
   "metadata": {},
   "outputs": [],
   "source": [
    "y = df_ks[\"state\"].values\n",
    "y = y.astype('int')\n",
    "X = df_ks.drop(\"state\", axis = 1).values"
   ]
  },
  {
   "cell_type": "code",
   "execution_count": 322,
   "metadata": {},
   "outputs": [],
   "source": [
    "test_size = 0.2\n",
    "X_train, X_test, y_train, y_test = train_test_split(X, y, test_size=test_size, random_state=1234)"
   ]
  },
  {
   "cell_type": "code",
   "execution_count": 323,
   "metadata": {},
   "outputs": [
    {
     "data": {
      "text/plain": [
       "RandomForestClassifier(max_depth=2, min_samples_leaf=2, n_estimators=10,\n",
       "                       random_state=1234)"
      ]
     },
     "execution_count": 323,
     "metadata": {},
     "output_type": "execute_result"
    }
   ],
   "source": [
    "clf = RandomForestClassifier(n_estimators=10, max_depth=2, criterion=\"gini\", min_samples_leaf=2, min_samples_split=2, random_state=1234)\n",
    "clf.fit(X_train, y_train)"
   ]
  },
  {
   "cell_type": "code",
   "execution_count": 324,
   "metadata": {},
   "outputs": [],
   "source": [
    "#訓練データに対する予測を実行\n",
    "y_pred_train = clf.predict(X_train)"
   ]
  },
  {
   "cell_type": "code",
   "execution_count": 325,
   "metadata": {},
   "outputs": [
    {
     "name": "stdout",
     "output_type": "stream",
     "text": [
      "正答率（Accuracy） = 84.518%\n",
      "適合率（Precision） = 83.818%\n",
      "再現率（Recall） = 91.704%\n",
      "F1値（F1-score） = 87.584%\n"
     ]
    }
   ],
   "source": [
    "#訓練データに対するaccuracy, precision, recall, f1を計算 \n",
    "accuracy =  accuracy_score(y_train, y_pred_train)\n",
    "print('正答率（Accuracy） = {:.3f}%'.format(100 * accuracy))\n",
    "\n",
    "precision, recall, f1_score, _ = precision_recall_fscore_support(y_train, y_pred_train)\n",
    "\n",
    "print('適合率（Precision） = {:.3f}%'.format(100 * precision[0]))\n",
    "print('再現率（Recall） = {:.3f}%'.format(100 * recall[0]))\n",
    "print('F1値（F1-score） = {:.3f}%'.format(100 * f1_score[0]))"
   ]
  },
  {
   "cell_type": "code",
   "execution_count": 326,
   "metadata": {},
   "outputs": [],
   "source": [
    "#テストデータに対する予測を実行\n",
    "y_pred_test = clf.predict(X_test)"
   ]
  },
  {
   "cell_type": "code",
   "execution_count": 327,
   "metadata": {},
   "outputs": [
    {
     "name": "stdout",
     "output_type": "stream",
     "text": [
      "正答率（Accuracy） = 84.648%\n",
      "適合率（Precision） = 84.109%\n",
      "再現率（Recall） = 91.688%\n",
      "F1値（F1-score） = 87.735%\n"
     ]
    }
   ],
   "source": [
    "#テストデータに対するaccuracy, precision, recall, f1を計算 \n",
    "accuracy =  accuracy_score(y_test, y_pred_test)\n",
    "print('正答率（Accuracy） = {:.3f}%'.format(100 * accuracy))\n",
    "\n",
    "precision, recall, f1_score, _ = precision_recall_fscore_support(y_test, y_pred_test)\n",
    "\n",
    "print('適合率（Precision） = {:.3f}%'.format(100 * precision[0]))\n",
    "print('再現率（Recall） = {:.3f}%'.format(100 * recall[0]))\n",
    "print('F1値（F1-score） = {:.3f}%'.format(100 * f1_score[0]))"
   ]
  },
  {
   "cell_type": "code",
   "execution_count": 328,
   "metadata": {},
   "outputs": [
    {
     "name": "stdout",
     "output_type": "stream",
     "text": [
      "[0.04298021 0.00905133 0.28851166 0.4537562  0.01574852 0.15642602\n",
      " 0.03352606]\n"
     ]
    },
    {
     "data": {
      "image/png": "[encoded data removed]",
      "text/plain": [
       "<Figure size 504x144 with 1 Axes>"
      ]
     },
     "metadata": {
      "needs_background": "light"
     },
     "output_type": "display_data"
    }
   ],
   "source": [
    "#重要な説明変数を調べる\n",
    "print(clf.feature_importances_)\n",
    "pd.DataFrame(clf.feature_importances_, index=[\"main_category\",\"currency\", \"goal\", \"backers\", \"country\", \"usd_goal_real\", \"days\"]).plot.bar(figsize=(7,2))\n",
    "plt.ylabel(\"Importance\")\n",
    "plt.xlabel(\"Features\")\n",
    "plt.show()"
   ]
  },
  {
   "cell_type": "code",
   "execution_count": 329,
   "metadata": {},
   "outputs": [],
   "source": [
    "#ランダムフォレストについてパラメータチューニング(交差探索法)"
   ]
  },
  {
   "cell_type": "code",
   "execution_count": 330,
   "metadata": {},
   "outputs": [
    {
     "name": "stdout",
     "output_type": "stream",
     "text": [
      "{'n_estimators': 40} 0.8779528013897892\n"
     ]
    }
   ],
   "source": [
    "parameters = {\"n_estimators\":[1, 10, 20, 30, 40, 50, 60, 70, 80, 90, 100]}\n",
    "model = RandomForestClassifier(max_depth=2, criterion=\"gini\", min_samples_leaf=2, min_samples_split=2, random_state=1234)\n",
    "clf = GridSearchCV(model, parameters, cv=3)\n",
    "clf.fit(X_train, y_train)\n",
    "print(clf.best_params_, clf.best_score_)"
   ]
  },
  {
   "cell_type": "code",
   "execution_count": 331,
   "metadata": {},
   "outputs": [
    {
     "data": {
      "text/plain": [
       "GridSearchCV(cv=3,\n",
       "             estimator=RandomForestClassifier(max_depth=2, min_samples_leaf=2,\n",
       "                                              random_state=1234),\n",
       "             param_grid={'n_estimators': [1, 10, 20, 30, 40, 50, 60, 70, 80, 90,\n",
       "                                          100]})"
      ]
     },
     "execution_count": 331,
     "metadata": {},
     "output_type": "execute_result"
    }
   ],
   "source": [
    "clf2 = RandomForestClassifier(n_estimators=clf.best_params_, max_depth=2, criterion=\"gini\", min_samples_leaf=2, min_samples_split=2, random_state=1234)\n",
    "clf.fit(X_train, y_train)"
   ]
  },
  {
   "cell_type": "code",
   "execution_count": 332,
   "metadata": {},
   "outputs": [],
   "source": [
    "#訓練データに対する予測を実行\n",
    "y_pred_train = clf.predict(X_train)"
   ]
  },
  {
   "cell_type": "code",
   "execution_count": 333,
   "metadata": {},
   "outputs": [
    {
     "name": "stdout",
     "output_type": "stream",
     "text": [
      "正答率（Accuracy） = 87.489%\n",
      "適合率（Precision） = 90.379%\n",
      "再現率（Recall） = 88.398%\n",
      "F1値（F1-score） = 89.377%\n"
     ]
    }
   ],
   "source": [
    "#訓練データに対するaccuracy, precision, recall, f1を計算 \n",
    "accuracy =  accuracy_score(y_train, y_pred_train)\n",
    "print('正答率（Accuracy） = {:.3f}%'.format(100 * accuracy))\n",
    "\n",
    "precision, recall, f1_score, _ = precision_recall_fscore_support(y_train, y_pred_train)\n",
    "\n",
    "print('適合率（Precision） = {:.3f}%'.format(100 * precision[0]))\n",
    "print('再現率（Recall） = {:.3f}%'.format(100 * recall[0]))\n",
    "print('F1値（F1-score） = {:.3f}%'.format(100 * f1_score[0]))"
   ]
  },
  {
   "cell_type": "code",
   "execution_count": 334,
   "metadata": {},
   "outputs": [],
   "source": [
    "#テストデータに対する予測を実行\n",
    "y_pred_test = clf.predict(X_test)"
   ]
  },
  {
   "cell_type": "code",
   "execution_count": 335,
   "metadata": {},
   "outputs": [
    {
     "name": "stdout",
     "output_type": "stream",
     "text": [
      "正答率（Accuracy） = 87.441%\n",
      "適合率（Precision） = 90.505%\n",
      "再現率（Recall） = 88.293%\n",
      "F1値（F1-score） = 89.385%\n"
     ]
    }
   ],
   "source": [
    "#テストデータに対するaccuracy, precision, recall, f1を計算 \n",
    "accuracy =  accuracy_score(y_test, y_pred_test)\n",
    "print('正答率（Accuracy） = {:.3f}%'.format(100 * accuracy))\n",
    "\n",
    "precision, recall, f1_score, _ = precision_recall_fscore_support(y_test, y_pred_test)\n",
    "\n",
    "print('適合率（Precision） = {:.3f}%'.format(100 * precision[0]))\n",
    "print('再現率（Recall） = {:.3f}%'.format(100 * recall[0]))\n",
    "print('F1値（F1-score） = {:.3f}%'.format(100 * f1_score[0]))"
   ]
  },
  {
   "cell_type": "code",
   "execution_count": 336,
   "metadata": {},
   "outputs": [],
   "source": [
    "#パラメータチューニング後で、再現率が3%程度下がっているが、その他の指標が大幅に向上した"
   ]
  },
  {
   "cell_type": "code",
   "execution_count": 337,
   "metadata": {},
   "outputs": [],
   "source": [
    "#アダブースト"
   ]
  },
  {
   "cell_type": "code",
   "execution_count": 338,
   "metadata": {},
   "outputs": [],
   "source": [
    "from sklearn.ensemble import AdaBoostClassifier\n",
    "from sklearn.tree import DecisionTreeClassifier"
   ]
  },
  {
   "cell_type": "code",
   "execution_count": 339,
   "metadata": {},
   "outputs": [],
   "source": [
    "y = df_ks[\"state\"].values\n",
    "y = y.astype('int')\n",
    "X = df_ks.drop(\"state\", axis = 1).values"
   ]
  },
  {
   "cell_type": "code",
   "execution_count": 340,
   "metadata": {},
   "outputs": [
    {
     "data": {
      "text/plain": [
       "AdaBoostClassifier(base_estimator=DecisionTreeClassifier(max_depth=3,\n",
       "                                                         min_samples_leaf=2,\n",
       "                                                         random_state=1234),\n",
       "                   n_estimators=10, random_state=1234)"
      ]
     },
     "execution_count": 340,
     "metadata": {},
     "output_type": "execute_result"
    }
   ],
   "source": [
    "clf = AdaBoostClassifier(DecisionTreeClassifier(max_depth=3, min_samples_leaf=2, min_samples_split=2, random_state=1234, criterion=\"gini\"), n_estimators=10, random_state=1234)\n",
    "clf.fit(X_train, y_train)"
   ]
  },
  {
   "cell_type": "code",
   "execution_count": 341,
   "metadata": {},
   "outputs": [],
   "source": [
    "#訓練データに対する予測を実行\n",
    "y_pred_train = clf.predict(X_train)"
   ]
  },
  {
   "cell_type": "code",
   "execution_count": 342,
   "metadata": {},
   "outputs": [
    {
     "name": "stdout",
     "output_type": "stream",
     "text": [
      "正答率（Accuracy） = 92.461%\n",
      "適合率（Precision） = 94.333%\n",
      "再現率（Recall） = 92.921%\n",
      "F1値（F1-score） = 93.622%\n"
     ]
    }
   ],
   "source": [
    "#訓練データに対するaccuracy, precision, recall, f1を計算 \n",
    "accuracy =  accuracy_score(y_train, y_pred_train)\n",
    "print('正答率（Accuracy） = {:.3f}%'.format(100 * accuracy))\n",
    "\n",
    "precision, recall, f1_score, _ = precision_recall_fscore_support(y_train, y_pred_train)\n",
    "\n",
    "print('適合率（Precision） = {:.3f}%'.format(100 * precision[0]))\n",
    "print('再現率（Recall） = {:.3f}%'.format(100 * recall[0]))\n",
    "print('F1値（F1-score） = {:.3f}%'.format(100 * f1_score[0]))"
   ]
  },
  {
   "cell_type": "code",
   "execution_count": 343,
   "metadata": {},
   "outputs": [],
   "source": [
    "#テストデータに対する予測を実行\n",
    "y_pred_test = clf.predict(X_test)"
   ]
  },
  {
   "cell_type": "code",
   "execution_count": 344,
   "metadata": {},
   "outputs": [
    {
     "name": "stdout",
     "output_type": "stream",
     "text": [
      "正答率（Accuracy） = 92.493%\n",
      "適合率（Precision） = 94.476%\n",
      "再現率（Recall） = 92.897%\n",
      "F1値（F1-score） = 93.680%\n"
     ]
    }
   ],
   "source": [
    "#テストデータに対するaccuracy, precision, recall, f1を計算 \n",
    "accuracy =  accuracy_score(y_test, y_pred_test)\n",
    "print('正答率（Accuracy） = {:.3f}%'.format(100 * accuracy))\n",
    "\n",
    "precision, recall, f1_score, _ = precision_recall_fscore_support(y_test, y_pred_test)\n",
    "\n",
    "print('適合率（Precision） = {:.3f}%'.format(100 * precision[0]))\n",
    "print('再現率（Recall） = {:.3f}%'.format(100 * recall[0]))\n",
    "print('F1値（F1-score） = {:.3f}%'.format(100 * f1_score[0]))"
   ]
  },
  {
   "cell_type": "code",
   "execution_count": 345,
   "metadata": {},
   "outputs": [
    {
     "name": "stdout",
     "output_type": "stream",
     "text": [
      "[0.21124295 0.         0.00344292 0.37477472 0.02444298 0.33340403\n",
      " 0.05269241]\n"
     ]
    },
    {
     "data": {
      "image/png": "[encoded data removed]",
      "text/plain": [
       "<Figure size 504x144 with 1 Axes>"
      ]
     },
     "metadata": {
      "needs_background": "light"
     },
     "output_type": "display_data"
    }
   ],
   "source": [
    "#重要な説明変数を調べる\n",
    "print(clf.feature_importances_)\n",
    "pd.DataFrame(clf.feature_importances_, index=[\"main_category\",\"currency\", \"goal\", \"backers\", \"country\", \"usd_goal_real\", \"days\"]).plot.bar(figsize=(7,2))\n",
    "plt.ylabel(\"Importance\")\n",
    "plt.xlabel(\"Features\")\n",
    "plt.show()"
   ]
  },
  {
   "cell_type": "code",
   "execution_count": 346,
   "metadata": {},
   "outputs": [],
   "source": [
    "#アダブーストについてパラメータチューニング(交差探索)"
   ]
  },
  {
   "cell_type": "code",
   "execution_count": 353,
   "metadata": {},
   "outputs": [
    {
     "name": "stdout",
     "output_type": "stream",
     "text": [
      "{'n_estimators': 70} 0.9311185620175174\n"
     ]
    }
   ],
   "source": [
    "parameters = {\"n_estimators\":[1, 10, 20, 30, 40, 50, 60, 70, 80, 90, 100]}\n",
    "model = AdaBoostClassifier(DecisionTreeClassifier(max_depth=3, min_samples_leaf=2, min_samples_split=2, random_state=1234, criterion=\"gini\"), random_state=1234)\n",
    "clf = GridSearchCV(model, parameters, cv=3)\n",
    "clf.fit(X_train, y_train)\n",
    "print(clf.best_params_, clf.best_score_)"
   ]
  },
  {
   "cell_type": "code",
   "execution_count": 354,
   "metadata": {},
   "outputs": [
    {
     "data": {
      "text/plain": [
       "AdaBoostClassifier(base_estimator=DecisionTreeClassifier(max_depth=3,\n",
       "                                                         min_samples_leaf=2,\n",
       "                                                         random_state=1234),\n",
       "                   n_estimators=70, random_state=1234)"
      ]
     },
     "execution_count": 354,
     "metadata": {},
     "output_type": "execute_result"
    }
   ],
   "source": [
    "clf = AdaBoostClassifier(DecisionTreeClassifier(max_depth=3, min_samples_leaf=2, min_samples_split=2, random_state=1234, criterion=\"gini\"), n_estimators=70, random_state=1234)\n",
    "clf.fit(X_train, y_train)"
   ]
  },
  {
   "cell_type": "code",
   "execution_count": 355,
   "metadata": {},
   "outputs": [],
   "source": [
    "#訓練データに対する予測を実行\n",
    "y_pred_train = clf.predict(X_train)"
   ]
  },
  {
   "cell_type": "code",
   "execution_count": 356,
   "metadata": {},
   "outputs": [
    {
     "name": "stdout",
     "output_type": "stream",
     "text": [
      "正答率（Accuracy） = 93.314%\n",
      "適合率（Precision） = 94.781%\n",
      "再現率（Recall） = 93.944%\n",
      "F1値（F1-score） = 94.361%\n"
     ]
    }
   ],
   "source": [
    "#訓練データに対するaccuracy, precision, recall, f1を計算 \n",
    "accuracy =  accuracy_score(y_train, y_pred_train)\n",
    "print('正答率（Accuracy） = {:.3f}%'.format(100 * accuracy))\n",
    "\n",
    "precision, recall, f1_score, _ = precision_recall_fscore_support(y_train, y_pred_train)\n",
    "\n",
    "print('適合率（Precision） = {:.3f}%'.format(100 * precision[0]))\n",
    "print('再現率（Recall） = {:.3f}%'.format(100 * recall[0]))\n",
    "print('F1値（F1-score） = {:.3f}%'.format(100 * f1_score[0]))"
   ]
  },
  {
   "cell_type": "code",
   "execution_count": 357,
   "metadata": {},
   "outputs": [],
   "source": [
    "#テストデータに対する予測を実行\n",
    "y_pred_test = clf.predict(X_test)"
   ]
  },
  {
   "cell_type": "code",
   "execution_count": 358,
   "metadata": {},
   "outputs": [
    {
     "name": "stdout",
     "output_type": "stream",
     "text": [
      "正答率（Accuracy） = 93.246%\n",
      "適合率（Precision） = 94.920%\n",
      "再現率（Recall） = 93.740%\n",
      "F1値（F1-score） = 94.326%\n"
     ]
    }
   ],
   "source": [
    "#テストデータに対するaccuracy, precision, recall, f1を計算 \n",
    "accuracy =  accuracy_score(y_test, y_pred_test)\n",
    "print('正答率（Accuracy） = {:.3f}%'.format(100 * accuracy))\n",
    "\n",
    "precision, recall, f1_score, _ = precision_recall_fscore_support(y_test, y_pred_test)\n",
    "\n",
    "print('適合率（Precision） = {:.3f}%'.format(100 * precision[0]))\n",
    "print('再現率（Recall） = {:.3f}%'.format(100 * recall[0]))\n",
    "print('F1値（F1-score） = {:.3f}%'.format(100 * f1_score[0]))"
   ]
  },
  {
   "cell_type": "code",
   "execution_count": 359,
   "metadata": {},
   "outputs": [],
   "source": [
    "#パラメータチューニング後、全ての指標が向上した"
   ]
  },
  {
   "cell_type": "code",
   "execution_count": null,
   "metadata": {},
   "outputs": [],
   "source": [
    "#決定木による精度をさらに上げるために重要度が低い目的変数を取り除く"
   ]
  },
  {
   "cell_type": "code",
   "execution_count": 360,
   "metadata": {},
   "outputs": [],
   "source": [
    "y = df_ks[\"state\"].values\n",
    "y = y.astype('int')\n",
    "X = df_ks.drop([\"state\", \"currency\", \"country\"], axis = 1).values\n",
    "test_size = 0.2\n",
    "X_train, X_test, y_train, y_test = train_test_split(X, y, test_size=test_size, random_state=1234)\n",
    "clf = DecisionTreeClassifier(criterion=\"gini\", max_depth=2, min_samples_split=3, min_samples_leaf=3, random_state=1234)"
   ]
  },
  {
   "cell_type": "code",
   "execution_count": 362,
   "metadata": {},
   "outputs": [],
   "source": [
    "#決定木についてパラメータチューニング(交差探索法)\n",
    "parameters = {\"max_depth\":[1, 5, 10], \"min_samples_leaf\":[1, 5, 10], \"min_samples_split\":[1, 5, 10]}\n",
    "model = DecisionTreeClassifier(criterion=\"gini\", random_state=1234)\n",
    "clf = GridSearchCV(model, parameters, cv=3)\n",
    "clf = DecisionTreeClassifier(criterion=\"gini\", max_depth=10, min_samples_split=10, min_samples_leaf=5, random_state=1234)\n",
    "clf = clf.fit(X_train, y_train)"
   ]
  },
  {
   "cell_type": "code",
   "execution_count": 363,
   "metadata": {},
   "outputs": [
    {
     "name": "stdout",
     "output_type": "stream",
     "text": [
      "正答率（Accuracy） = 93.320%\n",
      "適合率（Precision） = 94.833%\n",
      "再現率（Recall） = 93.896%\n",
      "F1値（F1-score） = 94.362%\n"
     ]
    }
   ],
   "source": [
    "#訓練データに対する予測を実行\n",
    "y_pred_train = clf.predict(X_train)\n",
    "#訓練データに対するaccuracy, precision, recall, f1を計算 \n",
    "accuracy =  accuracy_score(y_train, y_pred_train)\n",
    "print('正答率（Accuracy） = {:.3f}%'.format(100 * accuracy))\n",
    "\n",
    "precision, recall, f1_score, _ = precision_recall_fscore_support(y_train, y_pred_train)\n",
    "\n",
    "print('適合率（Precision） = {:.3f}%'.format(100 * precision[0]))\n",
    "print('再現率（Recall） = {:.3f}%'.format(100 * recall[0]))\n",
    "print('F1値（F1-score） = {:.3f}%'.format(100 * f1_score[0]))"
   ]
  },
  {
   "cell_type": "code",
   "execution_count": 364,
   "metadata": {},
   "outputs": [
    {
     "name": "stdout",
     "output_type": "stream",
     "text": [
      "正答率（Accuracy） = 92.871%\n",
      "適合率（Precision） = 94.550%\n",
      "再現率（Recall） = 93.486%\n",
      "F1値（F1-score） = 94.015%\n"
     ]
    }
   ],
   "source": [
    "#テストデータに対する予測を実行\n",
    "y_pred_test = clf.predict(X_test)\n",
    "#テストデータに対するaccuracy, precision, recall, f1を計算 \n",
    "accuracy =  accuracy_score(y_test, y_pred_test)\n",
    "print('正答率（Accuracy） = {:.3f}%'.format(100 * accuracy))\n",
    "\n",
    "precision, recall, f1_score, _ = precision_recall_fscore_support(y_test, y_pred_test)\n",
    "\n",
    "print('適合率（Precision） = {:.3f}%'.format(100 * precision[0]))\n",
    "print('再現率（Recall） = {:.3f}%'.format(100 * recall[0]))\n",
    "print('F1値（F1-score） = {:.3f}%'.format(100 * f1_score[0]))"
   ]
  },
  {
   "cell_type": "code",
   "execution_count": null,
   "metadata": {},
   "outputs": [],
   "source": [
    "#precision以外は僅かに精度が上がった"
   ]
  }
 ],
 "metadata": {
  "kernelspec": {
   "display_name": "Python 3",
   "language": "python",
   "name": "python3"
  },
  "language_info": {
   "codemirror_mode": {
    "name": "ipython",
    "version": 3
   },
   "file_extension": ".py",
   "mimetype": "text/x-python",
   "name": "python",
   "nbconvert_exporter": "python",
   "pygments_lexer": "ipython3",
   "version": "3.8.5"
  }
 },
 "nbformat": 4,
 "nbformat_minor": 4
}
